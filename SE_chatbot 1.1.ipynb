{
  "nbformat": 4,
  "nbformat_minor": 0,
  "metadata": {
    "colab": {
      "name": "yaseen chatbot.ipynb",
      "provenance": [],
      "collapsed_sections": [],
      "authorship_tag": "ABX9TyN4yafcUqowteB4cfZZUsQM",
      "include_colab_link": true
    },
    "kernelspec": {
      "name": "python3",
      "display_name": "Python 3"
    },
    "language_info": {
      "name": "python"
    },
    "accelerator": "GPU"
  },
  "cells": [
    {
      "cell_type": "markdown",
      "metadata": {
        "id": "view-in-github",
        "colab_type": "text"
      },
      "source": [
        "<a href=\"https://colab.research.google.com/github/rrizwan98/SSUET-chatbot/blob/main/SE_chatbot%201.1.ipynb\" target=\"_parent\"><img src=\"https://colab.research.google.com/assets/colab-badge.svg\" alt=\"Open In Colab\"/></a>"
      ]
    },
    {
      "cell_type": "code",
      "metadata": {
        "colab": {
          "base_uri": "https://localhost:8080/"
        },
        "id": "0ZpVzBJ15e1X",
        "outputId": "d5c1992b-bed0-4429-92a3-6969a9774517"
      },
      "source": [
        "!pip install nltk\n",
        "!pip install tflearn"
      ],
      "execution_count": 1,
      "outputs": [
        {
          "output_type": "stream",
          "name": "stdout",
          "text": [
            "Requirement already satisfied: nltk in /usr/local/lib/python3.7/dist-packages (3.2.5)\n",
            "Requirement already satisfied: six in /usr/local/lib/python3.7/dist-packages (from nltk) (1.15.0)\n",
            "Collecting tflearn\n",
            "  Downloading tflearn-0.5.0.tar.gz (107 kB)\n",
            "\u001b[K     |████████████████████████████████| 107 kB 5.3 MB/s \n",
            "\u001b[?25hRequirement already satisfied: numpy in /usr/local/lib/python3.7/dist-packages (from tflearn) (1.19.5)\n",
            "Requirement already satisfied: six in /usr/local/lib/python3.7/dist-packages (from tflearn) (1.15.0)\n",
            "Requirement already satisfied: Pillow in /usr/local/lib/python3.7/dist-packages (from tflearn) (7.1.2)\n",
            "Building wheels for collected packages: tflearn\n",
            "  Building wheel for tflearn (setup.py) ... \u001b[?25l\u001b[?25hdone\n",
            "  Created wheel for tflearn: filename=tflearn-0.5.0-py3-none-any.whl size=127299 sha256=7902cb15b08124299853d200da71038afd5ca30c7504f3caab50e24c294baa0d\n",
            "  Stored in directory: /root/.cache/pip/wheels/5f/14/2e/1d8e28cc47a5a931a2fb82438c9e37ef9246cc6a3774520271\n",
            "Successfully built tflearn\n",
            "Installing collected packages: tflearn\n",
            "Successfully installed tflearn-0.5.0\n"
          ]
        }
      ]
    },
    {
      "cell_type": "code",
      "metadata": {
        "colab": {
          "base_uri": "https://localhost:8080/"
        },
        "id": "Pr3hWPsf7UJm",
        "outputId": "dc89723c-b714-43b7-eb0b-a8233830171f"
      },
      "source": [
        "from google.colab import drive\n",
        "drive.mount('/content/drive')"
      ],
      "execution_count": 2,
      "outputs": [
        {
          "output_type": "stream",
          "name": "stdout",
          "text": [
            "Mounted at /content/drive\n"
          ]
        }
      ]
    },
    {
      "cell_type": "code",
      "metadata": {
        "id": "vhPLOKB96bNG",
        "colab": {
          "base_uri": "https://localhost:8080/"
        },
        "outputId": "6882d2a2-d87e-4d9c-98f1-cf0e3cadc2e4"
      },
      "source": [
        "import nltk\n",
        "from nltk.stem.lancaster import LancasterStemmer\n",
        "stemmer = LancasterStemmer()\n",
        "\n",
        "import numpy\n",
        "import tflearn\n",
        "import tensorflow\n",
        "import random\n",
        "\n",
        "import json\n",
        "with open('/content/drive/MyDrive/intents.json') as file:\n",
        "    data = json.load(file)\n"
      ],
      "execution_count": 3,
      "outputs": [
        {
          "output_type": "stream",
          "name": "stdout",
          "text": [
            "WARNING:tensorflow:From /usr/local/lib/python3.7/dist-packages/tensorflow/python/compat/v2_compat.py:101: disable_resource_variables (from tensorflow.python.ops.variable_scope) is deprecated and will be removed in a future version.\n",
            "Instructions for updating:\n",
            "non-resource variables are not supported in the long term\n"
          ]
        }
      ]
    },
    {
      "cell_type": "code",
      "metadata": {
        "colab": {
          "base_uri": "https://localhost:8080/"
        },
        "id": "7b5_L9jT6v6E",
        "outputId": "70d88159-1b6a-4079-d9f0-37a6fe8d2635"
      },
      "source": [
        "print(data)"
      ],
      "execution_count": 4,
      "outputs": [
        {
          "output_type": "stream",
          "name": "stdout",
          "text": [
            "{'intents': [{'tag': 'greeting', 'patterns': ['Hi', 'How are you', 'Is anyone there?', 'Hello', 'Good day', 'Whats up'], 'responses': ['Hello!', 'Good to see you again!', 'Hi there, how can I help?'], 'context_set': ''}, {'tag': 'goodbye', 'patterns': ['cya', 'See you later', 'Goodbye', 'I am Leaving', 'Have a Good day'], 'responses': ['Sad to see you go :(', 'Talk to you later', 'Goodbye!'], 'context_set': ''}, {'tag': 'Introduction to computing', 'patterns': ['Introduction to computing teacher name?', 'Introduction to computing CREDIT HOURS?', 'itc teacher room?', 'Introduction to computing COURSE CODE'], 'responses': ['itc teacher name: Sir Haris Mehboob', ' ITC CREDIT HOURS:3+1.', 'Introduction to computing Course Code:SWE105', 'itc teacher room:CF:4A'], 'context_set': ''}, {'tag': 'Programing fundamentals', 'patterns': ['what is programming fundamental teacher name?', 'Programing fundamentals CREDIT HOURS?', 'What is the Programing fundamentals teacher room?', 'Programing fundamentals COURSE CODE'], 'responses': ['teacher name:Dr.Rehan Qurashi', 'CREDIT HOURS:3+1.', 'Course Code:SWE102', ' teacher room:CF:4A'], 'context_set': ''}, {'tag': 'Programing fundamentals lab', 'patterns': ['what is programming fundamental lab teacher name?', 'programming fundamental Lab Room No?'], 'responses': ['Programming Fundamental lab teacher Name: Miss Nida khalil.', ' Lab Room No:cf-05'], 'context_set': ''}, {'tag': 'canteen', 'patterns': ['ssuet Canteens?', 'canteens location?', 'ssuet canteen timing'], 'responses': ['Welcome to SSUET canteen!', ' SSuet canteen timing open at 9 am to 5 pm.', 'canteens location: 2 canteens are in ssuet 1 for boys near parking gate and 2nd for girls opposite of nazami workshop'], 'context_set': ''}, {'tag': 'Library', 'patterns': ['Library timing', 'what are your hours to open the library', 'hours of library'], 'responses': ['library timing of SSUET open 9 am 5 pm Monday-Friday! and 1 pm to 2 pm lunch timing.'], 'context_set': ''}]}\n"
          ]
        }
      ]
    },
    {
      "cell_type": "code",
      "metadata": {
        "colab": {
          "base_uri": "https://localhost:8080/"
        },
        "id": "gu9IfNF_8R5X",
        "outputId": "cdf4c9c8-b979-458c-c221-b4501b2f9658"
      },
      "source": [
        "print(data['intents'])"
      ],
      "execution_count": 5,
      "outputs": [
        {
          "output_type": "stream",
          "name": "stdout",
          "text": [
            "[{'tag': 'greeting', 'patterns': ['Hi', 'How are you', 'Is anyone there?', 'Hello', 'Good day', 'Whats up'], 'responses': ['Hello!', 'Good to see you again!', 'Hi there, how can I help?'], 'context_set': ''}, {'tag': 'goodbye', 'patterns': ['cya', 'See you later', 'Goodbye', 'I am Leaving', 'Have a Good day'], 'responses': ['Sad to see you go :(', 'Talk to you later', 'Goodbye!'], 'context_set': ''}, {'tag': 'Introduction to computing', 'patterns': ['Introduction to computing teacher name?', 'Introduction to computing CREDIT HOURS?', 'itc teacher room?', 'Introduction to computing COURSE CODE'], 'responses': ['itc teacher name: Sir Haris Mehboob', ' ITC CREDIT HOURS:3+1.', 'Introduction to computing Course Code:SWE105', 'itc teacher room:CF:4A'], 'context_set': ''}, {'tag': 'Programing fundamentals', 'patterns': ['what is programming fundamental teacher name?', 'Programing fundamentals CREDIT HOURS?', 'What is the Programing fundamentals teacher room?', 'Programing fundamentals COURSE CODE'], 'responses': ['teacher name:Dr.Rehan Qurashi', 'CREDIT HOURS:3+1.', 'Course Code:SWE102', ' teacher room:CF:4A'], 'context_set': ''}, {'tag': 'Programing fundamentals lab', 'patterns': ['what is programming fundamental lab teacher name?', 'programming fundamental Lab Room No?'], 'responses': ['Programming Fundamental lab teacher Name: Miss Nida khalil.', ' Lab Room No:cf-05'], 'context_set': ''}, {'tag': 'canteen', 'patterns': ['ssuet Canteens?', 'canteens location?', 'ssuet canteen timing'], 'responses': ['Welcome to SSUET canteen!', ' SSuet canteen timing open at 9 am to 5 pm.', 'canteens location: 2 canteens are in ssuet 1 for boys near parking gate and 2nd for girls opposite of nazami workshop'], 'context_set': ''}, {'tag': 'Library', 'patterns': ['Library timing', 'what are your hours to open the library', 'hours of library'], 'responses': ['library timing of SSUET open 9 am 5 pm Monday-Friday! and 1 pm to 2 pm lunch timing.'], 'context_set': ''}]\n"
          ]
        }
      ]
    },
    {
      "cell_type": "code",
      "metadata": {
        "colab": {
          "base_uri": "https://localhost:8080/"
        },
        "id": "0wv5h3dqLO9U",
        "outputId": "0f066cca-444d-4692-ba36-c3ce8f57d4da"
      },
      "source": [
        "nltk.download('punkt')"
      ],
      "execution_count": 6,
      "outputs": [
        {
          "output_type": "stream",
          "name": "stdout",
          "text": [
            "[nltk_data] Downloading package punkt to /root/nltk_data...\n",
            "[nltk_data]   Unzipping tokenizers/punkt.zip.\n"
          ]
        },
        {
          "output_type": "execute_result",
          "data": {
            "text/plain": [
              "True"
            ]
          },
          "metadata": {},
          "execution_count": 6
        }
      ]
    },
    {
      "cell_type": "code",
      "metadata": {
        "id": "ObGrG4wN9EKH"
      },
      "source": [
        "words = []\n",
        "labels = []\n",
        "docs_x = []\n",
        "docs_y = []\n",
        "\n",
        "# Tokinization.\n",
        "for intent in data['intents']:\n",
        "    for pattern in intent['patterns']:\n",
        "      wrds = nltk.word_tokenize(pattern)\n",
        "      words.extend(wrds)\n",
        "      docs_x.append(wrds)\n",
        "      docs_y.append(intent[\"tag\"])\n",
        "        \n",
        "    if intent['tag'] not in labels:\n",
        "        labels.append(intent['tag'])"
      ],
      "execution_count": 7,
      "outputs": []
    },
    {
      "cell_type": "code",
      "metadata": {
        "colab": {
          "base_uri": "https://localhost:8080/"
        },
        "id": "qJOPmRJDfnYU",
        "outputId": "eec1f433-46ce-4e61-c71b-20f81af61e91"
      },
      "source": [
        "docs_x"
      ],
      "execution_count": 13,
      "outputs": [
        {
          "output_type": "execute_result",
          "data": {
            "text/plain": [
              "[['Hi'],\n",
              " ['How', 'are', 'you'],\n",
              " ['Is', 'anyone', 'there', '?'],\n",
              " ['Hello'],\n",
              " ['Good', 'day'],\n",
              " ['Whats', 'up'],\n",
              " ['cya'],\n",
              " ['See', 'you', 'later'],\n",
              " ['Goodbye'],\n",
              " ['I', 'am', 'Leaving'],\n",
              " ['Have', 'a', 'Good', 'day'],\n",
              " ['Introduction', 'to', 'computing', 'teacher', 'name', '?'],\n",
              " ['Introduction', 'to', 'computing', 'CREDIT', 'HOURS', '?'],\n",
              " ['itc', 'teacher', 'room', '?'],\n",
              " ['Introduction', 'to', 'computing', 'COURSE', 'CODE'],\n",
              " ['what', 'is', 'programming', 'fundamental', 'teacher', 'name', '?'],\n",
              " ['Programing', 'fundamentals', 'CREDIT', 'HOURS', '?'],\n",
              " ['What', 'is', 'the', 'Programing', 'fundamentals', 'teacher', 'room', '?'],\n",
              " ['Programing', 'fundamentals', 'COURSE', 'CODE'],\n",
              " ['what', 'is', 'programming', 'fundamental', 'lab', 'teacher', 'name', '?'],\n",
              " ['programming', 'fundamental', 'Lab', 'Room', 'No', '?'],\n",
              " ['ssuet', 'Canteens', '?'],\n",
              " ['canteens', 'location', '?'],\n",
              " ['ssuet', 'canteen', 'timing'],\n",
              " ['Library', 'timing'],\n",
              " ['what', 'are', 'your', 'hours', 'to', 'open', 'the', 'library'],\n",
              " ['hours', 'of', 'library']]"
            ]
          },
          "metadata": {},
          "execution_count": 13
        }
      ]
    },
    {
      "cell_type": "code",
      "metadata": {
        "id": "ngcgJSI_LApr"
      },
      "source": [
        "words = [stemmer.stem(w.lower()) for w in words if w != \"?\"]\n",
        "words = sorted(list(set(words)))\n",
        "\n",
        "labels = sorted(labels)"
      ],
      "execution_count": 14,
      "outputs": []
    },
    {
      "cell_type": "code",
      "metadata": {
        "colab": {
          "base_uri": "https://localhost:8080/"
        },
        "id": "JNgKdjdRgjS9",
        "outputId": "fd2eaaf5-d50d-4953-cba6-15d9193f48c2"
      },
      "source": [
        "labels"
      ],
      "execution_count": 16,
      "outputs": [
        {
          "output_type": "execute_result",
          "data": {
            "text/plain": [
              "['Introduction to computing',\n",
              " 'Library',\n",
              " 'Programing fundamentals',\n",
              " 'Programing fundamentals lab',\n",
              " 'canteen',\n",
              " 'goodbye',\n",
              " 'greeting']"
            ]
          },
          "metadata": {},
          "execution_count": 16
        }
      ]
    },
    {
      "cell_type": "code",
      "metadata": {
        "id": "trNdUWGqOzsU"
      },
      "source": [
        "# beg of words.\n",
        "training = []\n",
        "output = []\n",
        "\n",
        "out_empty = [0 for _ in range(len(labels))]\n",
        "\n",
        "for x, doc in enumerate(docs_x):\n",
        "    bag = []\n",
        "\n",
        "    wrds = [stemmer.stem(w.lower()) for w in doc]\n",
        "\n",
        "    for w in words:\n",
        "        if w in wrds:\n",
        "            bag.append(1)\n",
        "        else:\n",
        "            bag.append(0)\n",
        "\n",
        "    output_row = out_empty[:]\n",
        "    output_row[labels.index(docs_y[x])] = 1\n",
        "\n",
        "    training.append(bag)\n",
        "    output.append(output_row)"
      ],
      "execution_count": 17,
      "outputs": []
    },
    {
      "cell_type": "code",
      "metadata": {
        "colab": {
          "base_uri": "https://localhost:8080/"
        },
        "id": "Uanph4Esh1ux",
        "outputId": "2b4459c2-8c60-4c02-fb5c-b939c864710a"
      },
      "source": [
        ""
      ],
      "execution_count": 22,
      "outputs": [
        {
          "output_type": "execute_result",
          "data": {
            "text/plain": [
              "[0, 1, 0, 0, 0, 0, 0]"
            ]
          },
          "metadata": {},
          "execution_count": 22
        }
      ]
    },
    {
      "cell_type": "code",
      "metadata": {
        "id": "1DAL55S9PL6U"
      },
      "source": [
        "training = numpy.array(training)\n",
        "output = numpy.array(output)"
      ],
      "execution_count": null,
      "outputs": []
    },
    {
      "cell_type": "code",
      "metadata": {
        "id": "DzXw1Y0yhzqh"
      },
      "source": [
        ""
      ],
      "execution_count": null,
      "outputs": []
    },
    {
      "cell_type": "code",
      "metadata": {
        "colab": {
          "base_uri": "https://localhost:8080/"
        },
        "id": "jJOF6PnaPMvE",
        "outputId": "22485b16-fc08-409b-a009-b7c77277c107"
      },
      "source": [
        "from tensorflow.python.framework import ops\n",
        "ops.reset_default_graph()\n",
        "net = tflearn.input_data(shape=[None, len(training[0])])\n",
        "net = tflearn.fully_connected(net, 8)\n",
        "net = tflearn.fully_connected(net, 8)\n",
        "net = tflearn.fully_connected(net, len(output[0]), activation=\"softmax\")\n",
        "net = tflearn.regression(net)\n",
        "\n",
        "model = tflearn.DNN(net)"
      ],
      "execution_count": null,
      "outputs": [
        {
          "output_type": "stream",
          "text": [
            "WARNING:tensorflow:From /usr/local/lib/python3.7/dist-packages/tflearn/initializations.py:165: calling TruncatedNormal.__init__ (from tensorflow.python.ops.init_ops) with dtype is deprecated and will be removed in a future version.\n",
            "Instructions for updating:\n",
            "Call initializer instance with the dtype argument instead of passing it to the constructor\n"
          ],
          "name": "stdout"
        }
      ]
    },
    {
      "cell_type": "code",
      "metadata": {
        "colab": {
          "base_uri": "https://localhost:8080/"
        },
        "id": "g07chKhRPN92",
        "outputId": "b710afec-0d34-4e30-f96d-a0a2f7da996c"
      },
      "source": [
        "model.fit(training, output, n_epoch=1000, batch_size=8, show_metric=True)\n"
      ],
      "execution_count": null,
      "outputs": [
        {
          "output_type": "stream",
          "text": [
            "Training Step: 4039  | total loss: \u001b[1m\u001b[32m0.00853\u001b[0m\u001b[0m | time: 0.017s\n",
            "| Adam | epoch: 1010 | loss: 0.00853 - acc: 1.0000 -- iter: 24/27\n",
            "Training Step: 4040  | total loss: \u001b[1m\u001b[32m0.00892\u001b[0m\u001b[0m | time: 0.024s\n",
            "| Adam | epoch: 1010 | loss: 0.00892 - acc: 1.0000 -- iter: 27/27\n",
            "--\n"
          ],
          "name": "stdout"
        }
      ]
    },
    {
      "cell_type": "code",
      "metadata": {
        "colab": {
          "base_uri": "https://localhost:8080/"
        },
        "id": "bNnwsjStQu2G",
        "outputId": "c01e0332-66e1-40bf-97d8-2a6a3b4a3042"
      },
      "source": [
        "model.save(\"model.tflearn\")"
      ],
      "execution_count": null,
      "outputs": [
        {
          "output_type": "stream",
          "text": [
            "INFO:tensorflow:/content/model.tflearn is not in all_model_checkpoint_paths. Manually adding it.\n"
          ],
          "name": "stdout"
        }
      ]
    },
    {
      "cell_type": "code",
      "metadata": {
        "colab": {
          "base_uri": "https://localhost:8080/"
        },
        "id": "cpD51yLoRD2p",
        "outputId": "57fe993e-a6c2-4dc8-8645-f75aecd5110f"
      },
      "source": [
        "def bag_of_words(s, words):\n",
        "    bag = [0 for _ in range(len(words))]\n",
        "\n",
        "    s_words = nltk.word_tokenize(s)\n",
        "    s_words = [stemmer.stem(word.lower()) for word in s_words]\n",
        "\n",
        "    for se in s_words:\n",
        "        for i, w in enumerate(words):\n",
        "            if w == se:\n",
        "                bag[i] = 1\n",
        "            \n",
        "    return numpy.array(bag)\n",
        "\n",
        "\n",
        "def chat():\n",
        "    print(\"Start talking with the bot (type quit to stop)!\")\n",
        "    while True:\n",
        "        inp = input(\"You: \")\n",
        "        if inp.lower() == \"quit\":\n",
        "            break\n",
        "\n",
        "        results = model.predict([bag_of_words(inp, words)])\n",
        "        results_index = numpy.argmax(results)\n",
        "        tag = labels[results_index]\n",
        "\n",
        "        for tg in data[\"intents\"]:\n",
        "            if tg['tag'] == tag:\n",
        "                responses = tg['responses']\n",
        "\n",
        "        print(random.choice(responses))\n",
        "\n",
        "chat()"
      ],
      "execution_count": null,
      "outputs": [
        {
          "output_type": "stream",
          "text": [
            "Start talking with the bot (type quit to stop)!\n",
            "You: hello\n",
            "Hello!\n",
            "You: canteens location?\n",
            "canteens location: 2 canteens are in ssuet 1 for boys near parking gate and 2nd for girls opposite of nazami workshop\n",
            "You: ssuet canteen timing\n",
            "Welcome to SSUET canteen!\n",
            "You: Library timing\n",
            "library timing of SSUET open 9 am 5 pm Monday-Friday! and 1 pm to 2 pm lunch timing.\n",
            "You: what is programming fundamental lab teacher name?\n",
            "Programming Fundamental lab teacher Name: Miss Nida khalil.\n",
            "You: quit\n"
          ],
          "name": "stdout"
        }
      ]
    },
    {
      "cell_type": "code",
      "metadata": {
        "id": "imkWEAMXReel"
      },
      "source": [
        ""
      ],
      "execution_count": null,
      "outputs": []
    }
  ]
}