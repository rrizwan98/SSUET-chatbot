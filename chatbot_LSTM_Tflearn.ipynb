{
  "nbformat": 4,
  "nbformat_minor": 0,
  "metadata": {
    "colab": {
      "name": "chatbot-LSTM-Tflearn.ipynb",
      "provenance": [],
      "collapsed_sections": [],
      "include_colab_link": true
    },
    "kernelspec": {
      "name": "python3",
      "display_name": "Python 3"
    },
    "language_info": {
      "name": "python"
    },
    "accelerator": "GPU"
  },
  "cells": [
    {
      "cell_type": "markdown",
      "metadata": {
        "id": "view-in-github",
        "colab_type": "text"
      },
      "source": [
        "<a href=\"https://colab.research.google.com/github/rrizwan98/SSUET-chatbot/blob/main/chatbot_LSTM_Tflearn.ipynb\" target=\"_parent\"><img src=\"https://colab.research.google.com/assets/colab-badge.svg\" alt=\"Open In Colab\"/></a>"
      ]
    },
    {
      "cell_type": "code",
      "metadata": {
        "colab": {
          "base_uri": "https://localhost:8080/"
        },
        "id": "0ZpVzBJ15e1X",
        "outputId": "e1593fd2-c4d7-4045-91af-85dbd630ec9f"
      },
      "source": [
        "!pip install nltk\n",
        "!pip install tflearn"
      ],
      "execution_count": 1,
      "outputs": [
        {
          "output_type": "stream",
          "name": "stdout",
          "text": [
            "Requirement already satisfied: nltk in /usr/local/lib/python3.7/dist-packages (3.2.5)\n",
            "Requirement already satisfied: six in /usr/local/lib/python3.7/dist-packages (from nltk) (1.15.0)\n",
            "Collecting tflearn\n",
            "  Downloading tflearn-0.5.0.tar.gz (107 kB)\n",
            "\u001b[K     |████████████████████████████████| 107 kB 9.3 MB/s \n",
            "\u001b[?25hRequirement already satisfied: numpy in /usr/local/lib/python3.7/dist-packages (from tflearn) (1.19.5)\n",
            "Requirement already satisfied: six in /usr/local/lib/python3.7/dist-packages (from tflearn) (1.15.0)\n",
            "Requirement already satisfied: Pillow in /usr/local/lib/python3.7/dist-packages (from tflearn) (7.1.2)\n",
            "Building wheels for collected packages: tflearn\n",
            "  Building wheel for tflearn (setup.py) ... \u001b[?25l\u001b[?25hdone\n",
            "  Created wheel for tflearn: filename=tflearn-0.5.0-py3-none-any.whl size=127299 sha256=5e5339bf603ca90fb989c534c74400bfa37de8591ee27631a4c12f6cfe717d41\n",
            "  Stored in directory: /root/.cache/pip/wheels/5f/14/2e/1d8e28cc47a5a931a2fb82438c9e37ef9246cc6a3774520271\n",
            "Successfully built tflearn\n",
            "Installing collected packages: tflearn\n",
            "Successfully installed tflearn-0.5.0\n"
          ]
        }
      ]
    },
    {
      "cell_type": "code",
      "metadata": {
        "id": "Pr3hWPsf7UJm"
      },
      "source": [
        "# from google.colab import drive\n",
        "# drive.mount('/content/drive')"
      ],
      "execution_count": 2,
      "outputs": []
    },
    {
      "cell_type": "code",
      "metadata": {
        "id": "vhPLOKB96bNG"
      },
      "source": [
        "import nltk\n",
        "from nltk.stem.lancaster import LancasterStemmer\n",
        "stemmer = LancasterStemmer()\n",
        "\n",
        "import numpy\n",
        "import tflearn\n",
        "import tensorflow\n",
        "import random\n",
        "\n",
        "import json\n",
        "with open('/content/intents3.json') as file:\n",
        "    data = json.load(file)\n"
      ],
      "execution_count": 99,
      "outputs": []
    },
    {
      "cell_type": "code",
      "metadata": {
        "colab": {
          "base_uri": "https://localhost:8080/"
        },
        "id": "7b5_L9jT6v6E",
        "outputId": "02cd7332-56a3-42a1-9c61-c0dc4489e8ad"
      },
      "source": [
        "print(data)"
      ],
      "execution_count": 100,
      "outputs": [
        {
          "output_type": "stream",
          "name": "stdout",
          "text": [
            "{'intents': [{'context': 'greeting', 'question': ['Hi', 'How are you', 'Is anyone there?', 'Hello', 'Good day'], 'answer': ['Hello!', 'Good to see you again!', 'Hi there, how can I help?', 'Assalam-o-alaikum', 'I am SSSUET AI chat Solve the student qurees'], 'context_set': ''}, {'context': 'goodbye', 'question': ['cya', 'See you later', 'Goodbye', 'I am Leaving', 'Have a Good day'], 'answer': ['Sad to see you go:', 'Talk to you later', 'Goodbye!', 'bye bye', 'Allah Hafiz'], 'context_set': ''}, {'context': 'Introduction to computing itc techer name', 'question': ['Introduction to computing teacher name?'], 'answer': ['itc teacher name: Sir Haris Mehboob'], 'context_set': ''}, {'context': 'Introduction to computing/ itc credit hours', 'question': ['Introduction to computing CREDIT HOURS?'], 'answer': [' ITC CREDIT HOURS:3+1.'], 'context_set': ''}, {'context': 'Introduction to computing itc techer name', 'question': ['itc teacher room?'], 'answer': ['itc teacher room No:___undefine____'], 'context_set': ''}, {'context': 'Introduction to computing / itc course code', 'question': ['Introduction to computing COURSE CODE'], 'answer': ['Introduction to computing Course Code:SWE105'], 'context_set': ''}, {'context': 'introduction to computing itc class room no', 'question': ['itc class room No?'], 'answer': ['itc class room:CF:4A'], 'context_set': ''}, {'context': 'Programing fundamentals techer name ', 'question': ['what is programming fundamental teacher name?'], 'answer': ['teacher name:Dr.Rehan Qurashi'], 'context_set': ''}, {'context': 'Programing fundamentals rehan qurasi credit hours', 'question': ['Programing fundamentals CREDIT HOURS?'], 'answer': ['CREDIT HOURS:3+1.'], 'context_set': ''}, {'context': 'Programing fundamentals rehan qurasi techer room', 'question': ['Programing fundamentals teacher room?'], 'answer': ['Programing fundamentals teacher room no:CF:01'], 'context_set': ''}, {'context': 'Programing fundamentals rehan qurasi course code', 'question': ['Programing fundamentals COURSE CODE'], 'answer': ['Course Code:SWE102'], 'context_set': ''}, {'context': 'Programing fundamentals rehan qurasi class room no', 'question': ['Programing fundamentals class room No?'], 'answer': ['Programing fundamentals class room:CF:4A'], 'context_set': ''}, {'context': 'Programing fundamentals lab techer name', 'question': ['what is programming fundamental lab teacher name?'], 'answer': ['Programming Fundamental lab teacher Name: Miss Nida khalil.'], 'context_set': ''}, {'context': 'Programing fundamentals Miss Nida khalil room no', 'question': ['programming fundamental lab teacher room no'], 'answer': ['Lab teacher room No:AT-03'], 'context_set': ''}, {'context': 'Programing fundamentals Miss Nida khalil. Labroom no', 'question': ['programming fundamental Lab Room No?'], 'answer': [' Lab Room No:cf-05'], 'context_set': ''}, {'context': 'Islamic Studies ', 'question': ['Islamic Studies  teacher name?'], 'answer': ['Is teacher name: Miss Talat'], 'context_set': ''}, {'context': 'Islamic Studies ', 'question': ['Islamic Studies  CREDIT HOURS?'], 'answer': [' Is CREDIT HOURS:2.'], 'context_set': ''}, {'context': 'Islamic Studies ', 'question': ['Islamic Studies  class room?'], 'answer': ['IS class room:CF-4A'], 'context_set': ''}, {'context': 'Islamic Studies ', 'question': ['Islamic Studies  COURSE CODE'], 'answer': ['IS Course Code:HS101'], 'context_set': ''}, {'context': 'Islamic Studies ', 'question': ['Islamic Studies  teacher room?'], 'answer': ['Islamic Studies  teacher room:__undefine__'], 'context_set': ''}, {'context': 'Technical English', 'question': ['Technical English teacher name?'], 'answer': ['Technical English teacher name:Miss Beena'], 'context_set': ''}, {'context': 'Technical English', 'question': ['Technical English CREDIT HOURS?'], 'answer': [' Technical English CREDIT HOURS:3.'], 'context_set': ''}, {'context': 'Technical English', 'question': ['Technical English class room?'], 'answer': ['Technical English class room:CF-4A'], 'context_set': ''}, {'context': 'Technical English', 'question': ['Technical English COURSE CODE'], 'answer': ['Technical English Course Code:HS102'], 'context_set': ''}, {'context': 'Technical English', 'question': ['Technical English teacher room?'], 'answer': ['Technical English teacher room:GG-02'], 'context_set': ''}, {'context': 'Calculus & Analytical Geometry ', 'question': ['Calculus & Analytical Geometry  teacher name?'], 'answer': ['Calculus & Analytical Geometry teacher name: Miss Tooba Asif'], 'context_set': ''}, {'context': 'Calculus & Analytical Geometry ', 'question': ['Calculus & Analytical Geometry  CREDIT HOURS?'], 'answer': [' Calculus & Analytical Geometry HOURS:3.'], 'context_set': ''}, {'context': 'Calculus & Analytical Geometry ', 'question': ['Calculus & Analytical Geometry  class room?'], 'answer': ['Calculus & Analytical Geometry class room:CF:4A'], 'context_set': ''}, {'context': 'Calculus & Analytical Geometry ', 'question': ['Calculus & Analytical Geometry  COURSE CODE'], 'answer': ['Calculus & Analytical Geometry Code code:MS103'], 'context_set': ''}, {'context': 'Calculus & Analytical Geometry ', 'question': ['Calculus & Analytical Geometry  teacher room?'], 'answer': ['Calculus & Analytical Geometry  teacher room:AF-07'], 'context_set': ''}, {'context': 'Applied Physics techer name', 'question': ['Applied Physics  teacher name?'], 'answer': ['Applied Physics teacher name: Sir Ikhlaq'], 'context_set': ''}, {'context': 'Applied Physics credit hours ', 'question': ['Applied Physics  CREDIT HOURS?'], 'answer': [' Applied Physics CREDIT HOURS:3+1.'], 'context_set': ''}, {'context': 'Applied Physics class room ', 'question': ['Applied Physics  class room?'], 'answer': ['Applied Physics class room:CE-01'], 'context_set': ''}, {'context': 'Applied Physics course code ', 'question': ['Applied Physics  COURSE CODE'], 'answer': ['Applied Physics Course Code:MS110'], 'context_set': ''}, {'context': 'Applied Physics techer room  ', 'question': ['Applied Physics  teacher room?'], 'answer': ['Applied Physics  teacher room:__undefine__'], 'context_set': ''}, {'context': 'Basic Electronics techer name ', 'question': ['Basic Electronics teacher name?'], 'answer': ['Basic Electronics: Sir Chandan Lal'], 'context_set': ''}, {'context': 'Basic Electronics credit hours', 'question': ['Basic Electronics CREDIT HOURS?'], 'answer': [' Basic Electronics CREDIT HOURS:3+1.'], 'context_set': ''}, {'context': 'Basic Electronics class room ', 'question': ['Basic Electronics class room?'], 'answer': ['Basic Electronics class room:CF-03'], 'context_set': ''}, {'context': 'Basic Electronics  ', 'question': ['Basic Electronics COURSE CODE'], 'answer': ['Basic Electronics Course Code:EE110'], 'context_set': ''}, {'context': 'Basic Electronics techer room ', 'question': ['Basic Electronics teacher room?'], 'answer': ['Basic Electronics teacher room:__undefine__'], 'context_set': ''}, {'context': 'Pakistan Studies & Aligarh Movement techer name', 'question': ['Pakistan Studies & Aligarh Movement  teacher name?'], 'answer': ['Pakistan Studies & Aligarh Movement  teacher name: Sir Arshad '], 'context_set': ''}, {'context': 'Pakistan Studies & Aligarh Movement credit hours', 'question': ['Pakistan Studies & Aligarh Movement CREDIT HOURS?'], 'answer': [' Pakistan Studies & Aligarh Movement  HOURS:3+1.'], 'context_set': ''}, {'context': 'Pakistan Studies & Aligarh Movement class room', 'question': ['Pakistan Studies & Aligarh Movement class room?'], 'answer': ['Pakistan Studies & Aligarh Movement  class room:CF-03'], 'context_set': ''}, {'context': 'Pakistan Studies & Aligarh Movement course code', 'question': ['Pakistan Studies & Aligarh Movement COURSE CODE'], 'answer': ['Pakistan Studies & Aligarh Movement Course Code:HS103'], 'context_set': ''}, {'context': 'Pakistan Studies & Aligarh Movement techer room', 'question': ['Pakistan Studies & Aligarh Movement teacher room?'], 'answer': ['Pakistan Studies & Aligarh Movement teacher room:AF-07'], 'context_set': ''}, {'context': 'Linear Algebra & Differential Equations techer rrom', 'question': ['Linear Algebra & Differential Equations  teacher name?'], 'answer': ['Linear Algebra & Differential Equations teacher name: Sir Nasim Akhter'], 'context_set': ''}, {'context': 'Linear Algebra & Differential Equations credit hours', 'question': ['Linear Algebra & Differential Equations CREDIT HOURS?'], 'answer': ['Linear Algebra & Differential Equations CREDIT HOURS:3.'], 'context_set': ''}, {'context': 'Linear Algebra & Differential Equations class room ', 'question': ['Linear Algebra & Differential Equations  class room?'], 'answer': ['Linear Algebra & Differential Equations class room:CE-03'], 'context_set': ''}, {'context': 'Linear Algebra & Differential Equations course code', 'question': ['Linear Algebra & Differential Equations  COURSE CODE'], 'answer': ['Linear Algebra & Differential Equations Course Code:MS110'], 'context_set': ''}, {'context': 'Linear Algebra & Differential Equations techer room', 'question': ['Linear Algebra & Differential Equations  teacher room?'], 'answer': ['Linear Algebra & Differential Equations  teacher room:___undefine__'], 'context_set': ''}, {'context': 'Object Oriented Programming  techer name', 'question': ['Object Oriented Programming teacher name?'], 'answer': ['Object Oriented Programming  teacher name: Sir Noman Ali Khan'], 'context_set': ''}, {'context': 'Object Oriented Programming Sir Noman Ali Khan credit hours ', 'question': ['Object Oriented Programming CREDIT HOURS?'], 'answer': ['Object Oriented Programming  CREDIT HOURS:3+1'], 'context_set': ''}, {'context': 'Object Oriented Programming  class room ', 'question': ['Object Oriented Programming class room?'], 'answer': ['Object Oriented Programming  class room:CE-01'], 'context_set': ''}, {'context': 'Object Oriented Programming course code ', 'question': ['Object Oriented Programming COURSE CODE'], 'answer': ['Object Oriented Programming  Course Code:SWE103'], 'context_set': ''}, {'context': 'Object Oriented Programming Sir Noman Ali Khan techer room ', 'question': ['Object Oriented Programming teacher room?'], 'answer': ['Object Oriented Programming teacher room:BS-01'], 'context_set': ''}, {'context': 'Object Oriented Programming Lab teacher name', 'question': ['what is Object Oriented Programming lab teacher name?'], 'answer': ['Programming Fundamental lab teacher Name: Miss Noreen.'], 'context_set': ''}, {'context': 'Object Oriented Programming Lab room no', 'question': ['Object Oriented Programming Lab Room No?'], 'answer': [' object oriented Lab Room No:CS-04'], 'context_set': ''}, {'context': 'Object Oriented Programming Lab teacher No', 'question': ['Object Oriented Programming Lab teacher No?'], 'answer': ['Object Oriented Programming Lab teacher No: CS-06'], 'context_set': ''}, {'context': 'Discrete Mathematics techer name', 'question': ['Discrete Mathematics  teacher name?'], 'answer': ['Discrete Mathematics teacher name: Sir Rashid Kamal'], 'context_set': ''}, {'context': 'Discrete Mathematics credit hours', 'question': ['Discrete Mathematics  CREDIT HOURS?'], 'answer': [' Discrete Mathematics CREDIT HOURS:3.'], 'context_set': ''}, {'context': 'Discrete Mathematics class room', 'question': ['Discrete Mathematics class room?'], 'answer': ['Discrete Mathematics class room:CF-03'], 'context_set': ''}, {'context': 'Discrete Mathematics couorse code', 'question': ['Discrete Mathematics  COURSE CODE'], 'answer': ['Discrete Mathematics Course Code:MS204'], 'context_set': ''}, {'context': 'Discrete Mathematics techer room', 'question': ['Discrete Mathematics  teacher room?'], 'answer': ['Discrete Mathematics  teacher room: AF-07'], 'context_set': ''}, {'context': 'Communication Skills techer name', 'question': ['Communication Skills  teacher name?'], 'answer': ['Communication Skills teacher name: Miss Afra'], 'context_set': ''}, {'context': 'Communication Skills credit hours', 'question': ['Communication Skills  CREDIT HOURS?'], 'answer': [' Communication Skills CREDIT HOURS:3.'], 'context_set': ''}, {'context': 'Communication Skills class room', 'question': ['Communication Skills  class room?'], 'answer': ['Communication Skills class room:CF-4A'], 'context_set': ''}, {'context': 'Communication Skills coourse code', 'question': ['Communication Skills  COURSE CODE'], 'answer': ['Communication Skills Course Code:HS201'], 'context_set': ''}, {'context': 'Communication Skills techer room', 'question': ['Communication Skills  teacher room?'], 'answer': ['Communication Skills  teacher room: GG-02'], 'context_set': ''}, {'context': 'Introduction to Software Engineering', 'question': ['Introduction to Software Engineering teacher name?'], 'answer': ['Introduction to Software Engineeringteacher name: Sir Yousuf Ali Khan'], 'context_set': ''}, {'context': 'Introduction to Software Engineering credit hours', 'question': ['Introduction to Software Engineering CREDIT HOURS?'], 'answer': [' Introduction to Software Engineering CREDIT HOURS:3+1.'], 'context_set': ''}, {'context': 'Introduction to Software Engineering class room', 'question': ['Introduction to Software Engineering class room?'], 'answer': ['Introduction to Software Engineeringclass room:CF-4A'], 'context_set': ''}, {'context': 'Introduction to Software Engineeringcouse code', 'question': ['Introduction to Software Engineering COURSE CODE'], 'answer': ['Introduction to Software Engineering Course Code:SWE106'], 'context_set': ''}, {'context': 'Introduction to Software Engineering techer room', 'question': ['Introduction to Software Engineering teacher room?'], 'answer': ['Introduction to Software Engineering teacher room: ___undefine__'], 'context_set': ''}, {'context': 'Introduction to Software Engineering Lab techer name', 'question': ['what is Introduction to Software Engineering lab teacher name?'], 'answer': ['Programming Fundamental lab teacher Name: Miss Hafsa Nizami.'], 'context_set': ''}, {'context': 'Introduction to Software Engineering Lab room no', 'question': ['Introduction to Software Engineering Lab Room No?'], 'answer': ['Introduction to Software Engineering Lab Room No:BF-02'], 'context_set': ''}, {'context': 'Introduction to Software Engineering Lab no', 'question': ['Introduction to Software Engineering Lab No?'], 'answer': ['Introduction to Software Engineering Lab No: CF-05'], 'context_set': ''}, {'context': 'Digital Logic & Design techer name', 'question': ['Digital Logic & Design teacher name?'], 'answer': ['Digital Logic & Designteacher name: Miss Roohi'], 'context_set': ''}, {'context': 'Digital Logic & Design credit hours', 'question': ['Digital Logic & Design CREDIT HOURS?'], 'answer': [' Digital Logic & Design CREDIT HOURS:3+1.'], 'context_set': ''}, {'context': 'Digital Logic & Design class room', 'question': ['Digital Logic & Design class room?'], 'answer': ['Digital Logic & Design class room:CF-03'], 'context_set': ''}, {'context': 'Digital Logic & Design couse code', 'question': ['Digital Logic & Design COURSE CODE'], 'answer': ['Digital Logic & Design Course Code:SWE20'], 'context_set': ''}, {'context': 'Digital Logic & Design techer room', 'question': ['Digital Logic & Design teacher room?'], 'answer': ['Digital Logic & Design teacher room: ___undefine__'], 'context_set': ''}, {'context': 'Digital Logic & Design Lab techer room', 'question': ['what is Digital Logic & Design lab teacher name?'], 'answer': ['Programming Fundamental lab teacher Name: Sir Sadaqatullah Khan.'], 'context_set': ''}, {'context': 'Digital Logic & Design Lab room no', 'question': ['Digital Logic & Design Lab Room No?'], 'answer': ['Digital Logic & Design Lab Room No:FS-02B'], 'context_set': ''}, {'context': 'Data Structures & Algorithms techer name', 'question': ['Data Structures & Algorithms teacher name?'], 'answer': ['Data Structures & Algorithmsteacher name: Miss Saniah Noman'], 'context_set': ''}, {'context': 'Data Structures & Algorithms credit hours', 'question': ['Data Structures & Algorithms CREDIT HOURS?'], 'answer': [' Data Structures & Algorithms CREDIT HOURS:3+1.'], 'context_set': ''}, {'context': 'Data Structures & Algorithms class room', 'question': ['Data Structures & Algorithms class room?'], 'answer': ['Data Structures & Algorithms class room:CF-03'], 'context_set': ''}, {'context': 'Data Structures & Algorithms course code', 'question': ['Data Structures & Algorithms COURSE CODE'], 'answer': ['Data Structures & AlgorithmsCourse Code:SWE203'], 'context_set': ''}, {'context': 'Data Structures & Algorithms techer room', 'question': ['Data Structures & Algorithms teacher room?'], 'answer': ['Data Structures & Algorithms teacher room: CF-05'], 'context_set': ''}, {'context': 'Data Structures & Algorithms Lab techer name', 'question': ['what is Data Structures & Algorithms lab teacher name?'], 'answer': ['Programming Fundamental lab teacher Name: Miss Saniah Noman.'], 'context_set': ''}, {'context': 'Data Structures & Algorithms Lab room no', 'question': ['Data Structures & Algorithms Lab Room No?'], 'answer': ['Data Structures & Algorithms Lab Room No:BF-03'], 'context_set': ''}, {'context': 'Data Structures & Algorithms Lab room no', 'question': ['Data Structures & Algorithms Lab room No?'], 'answer': ['Data Structures & Algorithms Lab room No: CF-05'], 'context_set': ''}, {'context': 'Automata Theory & Formal Languages techer name', 'question': ['Automata Theory & Formal Languages teacher name?'], 'answer': ['Automata Theory & Formal Languagesteacher name: Miss Mehvish'], 'context_set': ''}, {'context': 'Automata Theory & Formal Languages credit hours', 'question': ['Automata Theory & Formal Languages CREDIT HOURS?'], 'answer': [' Automata Theory & Formal Languages CREDIT HOURS:2.'], 'context_set': ''}, {'context': 'Automata Theory & Formal Languages class room', 'question': ['Automata Theory & Formal Languages class room?'], 'answer': ['Automata Theory & Formal Languages class room:EFF-04'], 'context_set': ''}, {'context': 'Automata Theory & Formal Languages course code', 'question': ['Automata Theory & Formal Languages COURSE CODE'], 'answer': ['Automata Theory & Formal LanguagesCourse Code:SWE202'], 'context_set': ''}, {'context': 'Automata Theory & Formal Languages techer room', 'question': ['Automata Theory & Formal Languages teacher room?'], 'answer': ['Automata Theory & Formal Languages teacher room: CF-05'], 'context_set': ''}, {'context': 'Computer Organization & Architecture techer name', 'question': ['Computer Organization & Architecture teacher name?'], 'answer': ['Computer Organization & Architectureteacher name: Sir Amir'], 'context_set': ''}, {'context': 'Computer Organization & Architecture credit hours', 'question': ['Computer Organization & Architecture CREDIT HOURS?'], 'answer': [' Computer Organization & Architecture CREDIT HOURS:3+1.'], 'context_set': ''}, {'context': 'Computer Organization & Architecture class room', 'question': ['Computer Organization & Architecture class room?'], 'answer': ['Computer Organization & Architecture class room:CG-06'], 'context_set': ''}, {'context': 'Computer Organization & Architecture course code', 'question': ['Computer Organization & Architecture COURSE CODE'], 'answer': ['Computer Organization & Architecture Course Code:CE207'], 'context_set': ''}, {'context': 'Computer Organization & Architecture techer room', 'question': ['Computer Organization & Architecture teacher room?'], 'answer': ['Computer Organization & Architecture teacher room: FT-08'], 'context_set': ''}, {'context': 'Computer Organization & Architecture Lab techer name', 'question': ['what is Computer Organization & Architecture lab teacher name?'], 'answer': ['Programming Fundamental lab teacher Name: Sir Bilal.'], 'context_set': ''}, {'context': 'Computer Organization & Architecture Lab room no', 'question': ['Computer Organization & Architecture Lab Room No?'], 'answer': ['Computer Organization & Architecture Lab Room No:GS-07'], 'context_set': ''}, {'context': 'Computer Organization & Architecture Lab room no', 'question': ['Computer Organization & Architecture Lab room No?'], 'answer': ['Computer Organization & Architecture Lab room No: __undefine__'], 'context_set': ''}, {'context': 'Operating Systemtecher name', 'question': ['Operating System teacher name?'], 'answer': ['Operating Systemteacher name: Dr Muhammad Naseem'], 'context_set': ''}, {'context': 'Operating Systemcredit hours', 'question': ['Operating System CREDIT HOURS?'], 'answer': [' Operating System CREDIT HOURS:3+1.'], 'context_set': ''}, {'context': 'Operating System class room', 'question': ['Operating System class room?'], 'answer': ['Operating System class room:CF-4A'], 'context_set': ''}, {'context': 'Operating System course code', 'question': ['Operating System COURSE CODE'], 'answer': ['Operating System Course Code:SWE204'], 'context_set': ''}, {'context': 'Operating System techer room', 'question': ['Operating System teacher room?'], 'answer': ['Operating System teacher room: CF-01'], 'context_set': ''}, {'context': 'Operating System Lab techer name', 'question': ['what is Operating System lab teacher name?'], 'answer': ['Programming Fundamental lab teacher Name: Miss .'], 'context_set': ''}, {'context': 'Operating System Lab room no', 'question': ['Operating System Lab Room No?'], 'answer': [' Lab Room No:AT-03'], 'context_set': ''}, {'context': 'Operating System Lab techer room no', 'question': ['Operating System Lab teacher room No?'], 'answer': ['Operating System Lab teacher No: __undefine__'], 'context_set': ''}, {'context': 'Probability & Statistics techer name', 'question': ['Probability & Statistics teacher name?'], 'answer': ['Probability & Statisticsteacher name: Sir Aurangzeb'], 'context_set': ''}, {'context': 'Probability & Statistics credit hours', 'question': ['Probability & Statistics CREDIT HOURS?'], 'answer': [' Probability & Statistics CREDIT HOURS:3.'], 'context_set': ''}, {'context': 'Probability & Statisticsclass room', 'question': ['Probability & Statistics class room?'], 'answer': ['Probability & Statistics class room:CG-06'], 'context_set': ''}, {'context': 'Probability & Statistics course code', 'question': ['Probability & Statistics COURSE CODE'], 'answer': ['Probability & Statistics Course Code:MS301'], 'context_set': ''}, {'context': 'Probability & Statistics techer room', 'question': ['Probability & Statistics teacher room?'], 'answer': ['Probability & Statistics teacher room: AF-07'], 'context_set': ''}, {'context': 'Software Requirement Engineering techer name', 'question': ['Software Requirement Engineering teacher name?'], 'answer': ['Software Requirement Engineeringteacher name: Dr Syed Saood Zia'], 'context_set': ''}, {'context': 'Software Requirement Engineering credit hours', 'question': ['Software Requirement Engineering CREDIT HOURS?'], 'answer': [' Software Requirement Engineering CREDIT HOURS:3+1.'], 'context_set': ''}, {'context': 'Software Requirement Engineering class room', 'question': ['Software Requirement Engineering class room?'], 'answer': ['Software Requirement Engineering class room:CF-4A'], 'context_set': ''}, {'context': 'Software Requirement Engineering course code', 'question': ['Software Requirement Engineering COURSE CODE'], 'answer': ['Software Requirement Engineering Course Code:SWE205'], 'context_set': ''}, {'context': 'Software Requirement Engineering techer room', 'question': ['Software Requirement Engineering teacher room?'], 'answer': ['Software Requirement Engineering teacher room: CF-01'], 'context_set': ''}, {'context': 'Software Requirement Engineering Lab techer name', 'question': ['what is Software Requirement Engineering lab teacher name?'], 'answer': ['Programming Fundamental lab teacher Name: Miss Hafsa Nizami .'], 'context_set': ''}, {'context': 'Software Requirement Engineering Lab room no', 'question': ['Software Requirement Engineering Lab Room No?'], 'answer': ['Software Requirement Engineering Lab Room No:CS-04'], 'context_set': ''}, {'context': 'Software Requirement Engineering Lab tech room no', 'question': ['Software Requirement Engineering Lab teacher room No?'], 'answer': ['Software Requirement Engineering Lab teacher room No: CF-05'], 'context_set': ''}, {'context': 'Artificial Intelliigence techer name', 'question': ['Artificial Intelliigence  teacher name?'], 'answer': ['Artificial Intelliigence teacher name: Miss Sundus Zehra'], 'context_set': ''}, {'context': 'Artificial Intelliigence credit hours', 'question': ['Artificial Intelliigence  CREDIT HOURS?'], 'answer': [' Artificial Intelliigence  CREDIT HOURS:3+1.'], 'context_set': ''}, {'context': 'Artificial Intelliigence class room', 'question': ['Artificial Intelliigence  class room?'], 'answer': ['Artificial Intelliigence  class room:CS-02'], 'context_set': ''}, {'context': 'Artificial Intelliigence course code', 'question': ['Artificial Intelliigence  COURSE CODE'], 'answer': ['Artificial Intelliigence  Course Code:SWE407'], 'context_set': ''}, {'context': 'Artificial Intelliigence techer room', 'question': ['Artificial Intelliigence  teacher room?'], 'answer': ['Artificial Intelliigence  teacher room: CS-06'], 'context_set': ''}, {'context': 'Artificial Intelliigence Lab techer name', 'question': ['what is Artificial Intelliigence  lab teacher name?'], 'answer': ['Programming Fundamental lab teacher Name: Miss Nudrat Naveed .'], 'context_set': ''}, {'context': 'Artificial Intelliigence Lab room no', 'question': ['Artificial Intelliigence  Lab Room No?'], 'answer': ['Artificial Intelliigence Lab Room No:CS-04'], 'context_set': ''}, {'context': 'Artificial Intelliigence Lab tech room no', 'question': ['Artificial Intelliigence  Lab teacher room No?'], 'answer': ['Artificial Intelliigence  Lab teacher No:__undefine__'], 'context_set': ''}, {'context': 'Computer Communications & Networks techer name ', 'question': ['Computer Communications & Networks  teacher name?'], 'answer': ['Computer Communications & Networks teacher name: Sir Hassan Zaki'], 'context_set': ''}, {'context': 'Computer Communications & Networks credit hours ', 'question': ['Computer Communications & Networks  CREDIT HOURS?'], 'answer': [' Computer Communications & Networks  CREDIT HOURS:3+1.'], 'context_set': ''}, {'context': 'Computer Communications & Networks class room ', 'question': ['Computer Communications & Networks  class room?'], 'answer': ['Computer Communications & Networks  class room: CF-4A'], 'context_set': ''}, {'context': 'Computer Communications & Networks course code ', 'question': ['Computer Communications & Networks  COURSE CODE'], 'answer': ['Computer Communications & Networks  Course Code:SWE306'], 'context_set': ''}, {'context': 'Computer Communications & Networks techer room ', 'question': ['Computer Communications & Networks  teacher room?'], 'answer': ['Computer Communications & Networks  teacher room: __undefine__'], 'context_set': ''}, {'context': 'Computer Communications & Networks Lab techer name', 'question': ['what is Computer Communications & Networks  lab teacher name?'], 'answer': ['Programming Fundamental lab teacher Name: Sir Sadaqatullah Khan.'], 'context_set': ''}, {'context': 'Computer Communications & Networks Lab room no', 'question': ['Computer Communications & Networks  Lab Room No?'], 'answer': ['Computer Communications Lab Room No: BF-02'], 'context_set': ''}, {'context': 'Computer Communications & Networks Lab tech room no', 'question': ['Computer Communications & Networks  Lab teacher room No?'], 'answer': ['Computer Communications & Networks  Lab teacher No: __undefine__'], 'context_set': ''}, {'context': 'Introduction to Database System techer name ', 'question': ['Introduction to Database System teacher name?'], 'answer': ['Introduction to Database System  teacher name: Sir Shariq Durrani'], 'context_set': ''}, {'context': 'Introduction to Database System  credit hours ', 'question': ['Introduction to Database System CREDIT HOURS?'], 'answer': [' Introduction to Database System CREDIT HOURS:3+1.'], 'context_set': ''}, {'context': 'Introduction to Database System class room ', 'question': ['Introduction to Database System class room?'], 'answer': ['Introduction to Database System class room: CS-02'], 'context_set': ''}, {'context': 'Introduction to Database System course code ', 'question': ['Introduction to Database System COURSE CODE'], 'answer': ['Introduction to Database System Course Code:SWE301'], 'context_set': ''}, {'context': 'Introduction to Database System  techer room', 'question': ['Introduction to Database System teacher room?'], 'answer': ['Introduction to Database System teacher room: BS-02'], 'context_set': ''}, {'context': 'Introduction to Database System  Lab techer name', 'question': ['what is Introduction to Database System lab teacher name?'], 'answer': ['Programming Fundamental lab teacher Name: Miss Sana Waseem.'], 'context_set': ''}, {'context': 'Introduction to Database System  Lab room no', 'question': ['Introduction to Database System Lab Room No?'], 'answer': ['Introduction to Database System Lab Room No: BF-02'], 'context_set': ''}, {'context': 'Introduction to Database System  Lab techer room no', 'question': ['Introduction to Database System Lab teacher room No?'], 'answer': ['Introduction to Database System Lab teacher No: __undefine__'], 'context_set': ''}, {'context': 'Software Design & Archietecture techer name ', 'question': ['Software Design & Archietecture teacher name?'], 'answer': ['Software Design & Archietecture  teacher name: Miss Dure Shahwar Agha'], 'context_set': ''}, {'context': 'Software Design & Archietecture credit hours ', 'question': ['Software Design & Archietecture CREDIT HOURS?'], 'answer': [' Software Design & Archietecture CREDIT HOURS:2+1.'], 'context_set': ''}, {'context': 'Software Design & Archietecture class room ', 'question': ['Software Design & Archietecture class room?'], 'answer': ['Software Design & Archietecture class room: CF-4A'], 'context_set': ''}, {'context': 'Software Design & Archietecture course code ', 'question': ['Software Design & Archietecture COURSE CODE'], 'answer': ['Software Design & Archietecture Course Code:SWE303'], 'context_set': ''}, {'context': 'Software Design & Archietecture techer room ', 'question': ['Software Design & Archietecture teacher room?'], 'answer': ['Software Design & Archietecture teacher room: CS-06'], 'context_set': ''}, {'context': 'Software Design & Archietecture  Lab techer name', 'question': ['what is Software Design & Archietecture lab teacher name?'], 'answer': ['Programming Fundamental lab teacher Name: Miss Hiba.'], 'context_set': ''}, {'context': 'Software Design & Archietecture  Lab room no', 'question': ['Software Design & Archietecture Lab Room No?'], 'answer': ['Software Design & Archietecture Lab Room No: BF-03'], 'context_set': ''}, {'context': 'Software Design & Archietecture  Lab tech room no', 'question': ['Software Design & Archietecture Lab teacher No?'], 'answer': ['Software Design & Archietecture Lab teacher No: __undefine__'], 'context_set': ''}, {'context': 'Technical Writting techer name ', 'question': ['Technical Writting teacher name?'], 'answer': ['Technical Writting  teacher name: Miss Tazeen'], 'context_set': ''}, {'context': 'Technical Writting credit hours ', 'question': ['Technical Writting CREDIT HOURS?'], 'answer': [' Technical Writting CREDIT HOURS:2.'], 'context_set': ''}, {'context': 'Technical Writting class room ', 'question': ['Technical Writting class room?'], 'answer': ['Technical Writting class room: CS-02'], 'context_set': ''}, {'context': 'Technical Writting course code ', 'question': ['Technical Writting COURSE CODE'], 'answer': ['Technical Writting Course Code:HS211'], 'context_set': ''}, {'context': 'Technical Writting  techer room', 'question': ['Technical Writting teacher room?'], 'answer': ['Technical Writting teacher room: GG-02'], 'context_set': ''}, {'context': 'Compiler Construction techer name ', 'question': ['Compiler Construction teacher name?'], 'answer': ['Compiler Construction  teacher name:Sir Harris Mehboob/Miss Sanoober Somroo'], 'context_set': ''}, {'context': 'Compiler Construction credit hours ', 'question': ['Compiler Construction CREDIT HOURS?'], 'answer': [' Compiler Construction CREDIT HOURS:3.'], 'context_set': ''}, {'context': 'Compiler Construction class room ', 'question': ['Compiler Construction class room?'], 'answer': ['Compiler Construction class room: CS-05'], 'context_set': ''}, {'context': 'Compiler Construction course code  ', 'question': ['Compiler Construction COURSE CODE'], 'answer': ['Compiler Construction class room: CS-05'], 'context_set': ''}, {'context': 'Compiler Construction tecer room ', 'question': ['Compiler Construction teacher room?'], 'answer': ['Compiler Construction teacher room: GG-02'], 'context_set': ''}, {'context': 'Enterprise System Engineering techer nmae ', 'question': ['Enterprise System Engineering teacher name?'], 'answer': ['Enterprise System Engineering  teacher name:Sir Syed Saood Zia'], 'context_set': ''}, {'context': 'Enterprise System Engineering credit hours ', 'question': ['Enterprise System Engineering CREDIT HOURS?'], 'answer': [' Enterprise System Engineering CREDIT HOURS:3.'], 'context_set': ''}, {'context': 'Enterprise System Engineering class room ', 'question': ['Enterprise System Engineering class room?'], 'answer': ['Enterprise System Engineering class room: CF-4A'], 'context_set': ''}, {'context': 'Enterprise System Engineering course code ', 'question': ['Enterprise System Engineering COURSE CODE'], 'answer': ['Enterprise System Engineering Course Code:SWE304'], 'context_set': ''}, {'context': 'Enterprise System Engineering techer room ', 'question': ['Enterprise System Engineering teacher room?'], 'answer': ['Enterprise System Engineering teacher room: CF-01'], 'context_set': ''}, {'context': 'Information Security  techer name', 'question': ['Information Security teacher name?'], 'answer': ['Information Security  teacher name:Sir Hassan Zaki/ Miss Roohi Kamal'], 'context_set': ''}, {'context': 'Information Security credit hours', 'question': ['Information Security CREDIT HOURS?'], 'answer': [' Information Security CREDIT HOURS:3.'], 'context_set': ''}, {'context': 'Information Security class room ', 'question': ['Information Security class room?'], 'answer': ['Information Security class room: CF-4A'], 'context_set': ''}, {'context': 'Information Security course code ', 'question': ['Information Security COURSE CODE'], 'answer': ['Information Security Course Code:SWE313'], 'context_set': ''}, {'context': 'Information Security techer room ', 'question': ['Information Security teacher room?'], 'answer': ['Information Security teacher room: __undefine__'], 'context_set': ''}, {'context': 'Prinnciples of Management & Enterpreneurship techer name ', 'question': ['Prinnciples of Management & Enterpreneurship  teacher name?'], 'answer': ['Prinnciples of Management & Enterpreneurship teacher name:Sir Kashif Shaikh'], 'context_set': ''}, {'context': 'Prinnciples of Management & Enterpreneurship credit hours', 'question': ['Prinnciples of Management & Enterpreneurship  CREDIT HOURS?'], 'answer': [' Prinnciples of Management & Enterpreneurship  CREDIT HOURS:3.'], 'context_set': ''}, {'context': 'Prinnciples of Management & Enterpreneurship class room', 'question': ['Prinnciples of Management & Enterpreneurship  class room?'], 'answer': ['Prinnciples of Management & Enterpreneurship  class room: CF-4A'], 'context_set': ''}, {'context': 'Prinnciples of Management & Enterpreneurship course code ', 'question': ['Prinnciples of Management & Enterpreneurship  COURSE CODE'], 'answer': ['Prinnciples of Management & Enterpreneurship  Course Code:HS305'], 'context_set': ''}, {'context': 'Prinnciples of Management & Enterpreneurship techer room', 'question': ['Prinnciples of Management & Enterpreneurship  teacher room?'], 'answer': ['Prinnciples of Management & Enterpreneurship  teacher room: __undefine__'], 'context_set': ''}, {'context': 'Software Quality Engineering techer name', 'question': ['Software Quality Engineering  teacher name?'], 'answer': ['Software Quality Engineering teacher name:Sir Farukh Alvi/ Miss Nida Khalil'], 'context_set': ''}, {'context': 'Software Quality Engineering credit hours', 'question': ['Software Quality Engineering  CREDIT HOURS?'], 'answer': [' Software Quality Engineering  CREDIT HOURS:3.'], 'context_set': ''}, {'context': 'Software Quality Engineering class room', 'question': ['Software Quality Engineering  class room?'], 'answer': ['Software Quality Engineering  class room: CF-4A'], 'context_set': ''}, {'context': 'Software Quality Engineering course code', 'question': ['Software Quality Engineering  COURSE CODE'], 'answer': ['Software Quality Engineering  Course Code:SWE305'], 'context_set': ''}, {'context': 'Software Quality Engineering teacher room', 'question': ['Software Quality Engineering  teacher room?'], 'answer': ['Software Quality Engineering  teacher room:CF-05'], 'context_set': ''}, {'context': 'Web Engineering teacher name', 'question': ['Web Engineering  teacher name?'], 'answer': ['Web Engineering teacher name:Miss Priha Bhatti/ Sir Noman Ali Khan'], 'context_set': ''}, {'context': 'Web Engineering credit hours ', 'question': ['Web Engineering  CREDIT HOURS?'], 'answer': [' Web Engineering  CREDIT HOURS:2+1.'], 'context_set': ''}, {'context': 'Web Engineering class room', 'question': ['Web Engineering  class room?'], 'answer': ['Web Engineering  class room: CS-02'], 'context_set': ''}, {'context': 'Web Engineering course code', 'question': ['Web Engineering  COURSE CODE'], 'answer': ['Web Engineering  Course Code:SWE315'], 'context_set': ''}, {'context': 'Web Engineering teacher room', 'question': ['Web Engineering  teacher room?'], 'answer': ['Web Engineering  teacher room:BS-01'], 'context_set': ''}, {'context': 'Web Engineering Lab teacher name', 'question': ['what is Web Engineering  lab teacher name?'], 'answer': ['Programming Fundamental lab teacher Name: Miss Hafsa Nizami.'], 'context_set': ''}, {'context': 'Web Engineering Lab room no', 'question': ['Web Engineering  Lab Room No?'], 'answer': [' Lab Room No: Online'], 'context_set': ''}, {'context': 'Web Engineering Lab teacher room no', 'question': ['Web Engineering  Lab teacher rrom No?'], 'answer': ['Web Engineering  Lab teacher room No:CF-05'], 'context_set': ''}, {'context': 'Big Data Analystics techer name', 'question': ['Big Data Analystics  teacher name?'], 'answer': ['Big Data Analystics teacher name:Sir Khalid Mehboob'], 'context_set': ''}, {'context': 'Big Data Analystics credit hours', 'question': ['Big Data Analystics  CREDIT HOURS?'], 'answer': [' Big Data Analystics  CREDIT HOURS:3.'], 'context_set': ''}, {'context': 'Big Data Analystics class room', 'question': ['Big Data Analystics  class room?'], 'answer': ['Big Data Analystics  class room: CS-05'], 'context_set': ''}, {'context': 'Big Data Analystics course code', 'question': ['Big Data Analystics  COURSE CODE'], 'answer': ['Big Data Analystics  Course Code:SWE419'], 'context_set': ''}, {'context': 'Big Data Analystics teacher name ', 'question': ['Big Data Analystics  teacher room?'], 'answer': ['Big Data Analystics  teacher room:CF-05'], 'context_set': ''}, {'context': 'Human & Computer Interaction techer name', 'question': ['Human & Computer Interaction  teacher name?'], 'answer': ['Human & Computer Interaction teacher name:Sir Farukh Alvi'], 'context_set': ''}, {'context': 'Human & Computer Interaction credit hours', 'question': ['Human & Computer Interaction  CREDIT HOURS?'], 'answer': [' Human & Computer Interaction  CREDIT HOURS:3.'], 'context_set': ''}, {'context': 'Human & Computer Interaction class room', 'question': ['Human & Computer Interaction  class room?'], 'answer': ['Human & Computer Interaction  class room: CS-05'], 'context_set': ''}, {'context': 'Human & Computer Interaction course code', 'question': ['Human & Computer Interaction  COURSE CODE'], 'answer': ['Human & Computer Interaction  Course Code:SWE308'], 'context_set': ''}, {'context': 'Human & Computer Interaction techer room ', 'question': ['Human & Computer Interaction  teacher room?'], 'answer': ['Human & Computer Interaction  teacher room:CF-05'], 'context_set': ''}, {'context': 'Simulation & Modeling ', 'question': ['Simulation & Modeling  teacher name?'], 'answer': ['Simulation & Modeling teacher name:Dr Muhammad Naseem'], 'context_set': ''}, {'context': 'Simulation & Modeling credit hours', 'question': ['Simulation & Modeling  CREDIT HOURS?'], 'answer': [' Simulation & Modeling  CREDIT HOURS:2+1.'], 'context_set': ''}, {'context': 'Simulation & Modeling class room', 'question': ['Simulation & Modeling  class room?'], 'answer': ['Simulation & Modeling  class room: CS-05'], 'context_set': ''}, {'context': 'Simulation & Modeling course code', 'question': ['Simulation & Modeling  COURSE CODE'], 'answer': ['Simulation & Modeling  Course Code:SWE422'], 'context_set': ''}, {'context': 'Simulation & Modeling techer room', 'question': ['Simulation & Modeling  teacher room?'], 'answer': ['Simulation & Modeling  teacher room:CF-01'], 'context_set': ''}, {'context': 'Simulation & Modeling Lab techer nmae', 'question': ['what is Simulation & Modeling  lab teacher name?'], 'answer': ['Programming Fundamental lab teacher Name: Miss Hafsa Nizami.'], 'context_set': ''}, {'context': 'Simulation & Modeling Lab room no', 'question': ['Simulation & Modeling  Lab Room No?'], 'answer': [' Lab Room No: CS-04'], 'context_set': ''}, {'context': 'Simulation & Modeling Lab techer room no', 'question': ['Simulation & Modeling  Lab teacher room No?'], 'answer': ['Simulation & Modeling  Lab teacher No:CF-05'], 'context_set': ''}, {'context': 'Organizational Behaviour techer name ', 'question': ['Organizational Behaviour teacher name?'], 'answer': ['Organizational Behaviour  teacher name:Sir Adnan Zahoor'], 'context_set': ''}, {'context': 'Organizational Behaviour credit hours ', 'question': ['Organizational Behaviour CREDIT HOURS?'], 'answer': [' Organizational Behaviour CREDIT HOURS:2.'], 'context_set': ''}, {'context': 'Organizational Behaviour class room ', 'question': ['Organizational Behaviour class room?'], 'answer': ['Organizational Behaviour class room: CS-05'], 'context_set': ''}, {'context': 'Organizational Behaviour course code ', 'question': ['Organizational Behaviour COURSE CODE'], 'answer': ['Organizational Behaviour Course Code:HS212'], 'context_set': ''}, {'context': 'Organizational Behaviour techer room ', 'question': ['Organizational Behaviour teacher room?'], 'answer': ['Organizational Behaviour teacher room:CF-01'], 'context_set': ''}, {'context': 'Software Project Management teacher name ', 'question': ['Software Project Management teacher name?'], 'answer': ['Software Project Management  teacher name:Sir Kashif Shaikh'], 'context_set': ''}, {'context': 'Software Project Management credit hours ', 'question': ['Software Project Management CREDIT HOURS?'], 'answer': [' Software Project Management CREDIT HOURS:3.'], 'context_set': ''}, {'context': 'Software Project Management class room ', 'question': ['Software Project Management class room?'], 'answer': ['Software Project Management class room: CS-05'], 'context_set': ''}, {'context': 'Software Project Management course code ', 'question': ['Software Project Management COURSE CODE'], 'answer': ['Software Project Management Course Code:SWE401'], 'context_set': ''}, {'context': 'Software Project Management teacher room ', 'question': ['Software Project Management teacher room?'], 'answer': ['Software Project Management teacher room: __undefine__'], 'context_set': ''}, {'context': 'canteen', 'question': ['ssuet Canteens?', 'canteens location?', 'ssuet canteen timing'], 'answer': ['Welcome to SSUET canteen!', ' SSuet canteen timing open at 9 am to 5 pm. canteens location: 2 canteens are in ssuet 1 for boys near parking gate and 2nd for girls opposite of nazami workshop', ' SSuet canteen timing open at 9 am to 5 pm. canteens location: 2 canteens are in ssuet 1 for boys near parking gate and 2nd for girls opposite of nazami workshop'], 'context_set': ''}, {'context': 'Library', 'question': ['Library timing', 'what are your hours to open the library', 'hours of library'], 'answer': ['library timing of SSUET open 9 am 5 pm Monday-Friday! and 1 pm to 2 pm lunch timing.', 'library timing of SSUET open 9 am 5 pm Monday-Friday! and 1 pm to 2 pm lunch timing.', 'library timing of SSUET open 9 am 5 pm Monday-Friday! and 1 pm to 2 pm lunch timing.'], 'context_set': ''}]}\n"
          ]
        }
      ]
    },
    {
      "cell_type": "code",
      "metadata": {
        "colab": {
          "base_uri": "https://localhost:8080/"
        },
        "id": "gu9IfNF_8R5X",
        "outputId": "40e1ba09-fe2a-4737-d758-1dc2da2d780f"
      },
      "source": [
        "print(data['intents'])"
      ],
      "execution_count": 101,
      "outputs": [
        {
          "output_type": "stream",
          "name": "stdout",
          "text": [
            "[{'context': 'greeting', 'question': ['Hi', 'How are you', 'Is anyone there?', 'Hello', 'Good day'], 'answer': ['Hello!', 'Good to see you again!', 'Hi there, how can I help?', 'Assalam-o-alaikum', 'I am SSSUET AI chat Solve the student qurees'], 'context_set': ''}, {'context': 'goodbye', 'question': ['cya', 'See you later', 'Goodbye', 'I am Leaving', 'Have a Good day'], 'answer': ['Sad to see you go:', 'Talk to you later', 'Goodbye!', 'bye bye', 'Allah Hafiz'], 'context_set': ''}, {'context': 'Introduction to computing itc techer name', 'question': ['Introduction to computing teacher name?'], 'answer': ['itc teacher name: Sir Haris Mehboob'], 'context_set': ''}, {'context': 'Introduction to computing/ itc credit hours', 'question': ['Introduction to computing CREDIT HOURS?'], 'answer': [' ITC CREDIT HOURS:3+1.'], 'context_set': ''}, {'context': 'Introduction to computing itc techer name', 'question': ['itc teacher room?'], 'answer': ['itc teacher room No:___undefine____'], 'context_set': ''}, {'context': 'Introduction to computing / itc course code', 'question': ['Introduction to computing COURSE CODE'], 'answer': ['Introduction to computing Course Code:SWE105'], 'context_set': ''}, {'context': 'introduction to computing itc class room no', 'question': ['itc class room No?'], 'answer': ['itc class room:CF:4A'], 'context_set': ''}, {'context': 'Programing fundamentals techer name ', 'question': ['what is programming fundamental teacher name?'], 'answer': ['teacher name:Dr.Rehan Qurashi'], 'context_set': ''}, {'context': 'Programing fundamentals rehan qurasi credit hours', 'question': ['Programing fundamentals CREDIT HOURS?'], 'answer': ['CREDIT HOURS:3+1.'], 'context_set': ''}, {'context': 'Programing fundamentals rehan qurasi techer room', 'question': ['Programing fundamentals teacher room?'], 'answer': ['Programing fundamentals teacher room no:CF:01'], 'context_set': ''}, {'context': 'Programing fundamentals rehan qurasi course code', 'question': ['Programing fundamentals COURSE CODE'], 'answer': ['Course Code:SWE102'], 'context_set': ''}, {'context': 'Programing fundamentals rehan qurasi class room no', 'question': ['Programing fundamentals class room No?'], 'answer': ['Programing fundamentals class room:CF:4A'], 'context_set': ''}, {'context': 'Programing fundamentals lab techer name', 'question': ['what is programming fundamental lab teacher name?'], 'answer': ['Programming Fundamental lab teacher Name: Miss Nida khalil.'], 'context_set': ''}, {'context': 'Programing fundamentals Miss Nida khalil room no', 'question': ['programming fundamental lab teacher room no'], 'answer': ['Lab teacher room No:AT-03'], 'context_set': ''}, {'context': 'Programing fundamentals Miss Nida khalil. Labroom no', 'question': ['programming fundamental Lab Room No?'], 'answer': [' Lab Room No:cf-05'], 'context_set': ''}, {'context': 'Islamic Studies ', 'question': ['Islamic Studies  teacher name?'], 'answer': ['Is teacher name: Miss Talat'], 'context_set': ''}, {'context': 'Islamic Studies ', 'question': ['Islamic Studies  CREDIT HOURS?'], 'answer': [' Is CREDIT HOURS:2.'], 'context_set': ''}, {'context': 'Islamic Studies ', 'question': ['Islamic Studies  class room?'], 'answer': ['IS class room:CF-4A'], 'context_set': ''}, {'context': 'Islamic Studies ', 'question': ['Islamic Studies  COURSE CODE'], 'answer': ['IS Course Code:HS101'], 'context_set': ''}, {'context': 'Islamic Studies ', 'question': ['Islamic Studies  teacher room?'], 'answer': ['Islamic Studies  teacher room:__undefine__'], 'context_set': ''}, {'context': 'Technical English', 'question': ['Technical English teacher name?'], 'answer': ['Technical English teacher name:Miss Beena'], 'context_set': ''}, {'context': 'Technical English', 'question': ['Technical English CREDIT HOURS?'], 'answer': [' Technical English CREDIT HOURS:3.'], 'context_set': ''}, {'context': 'Technical English', 'question': ['Technical English class room?'], 'answer': ['Technical English class room:CF-4A'], 'context_set': ''}, {'context': 'Technical English', 'question': ['Technical English COURSE CODE'], 'answer': ['Technical English Course Code:HS102'], 'context_set': ''}, {'context': 'Technical English', 'question': ['Technical English teacher room?'], 'answer': ['Technical English teacher room:GG-02'], 'context_set': ''}, {'context': 'Calculus & Analytical Geometry ', 'question': ['Calculus & Analytical Geometry  teacher name?'], 'answer': ['Calculus & Analytical Geometry teacher name: Miss Tooba Asif'], 'context_set': ''}, {'context': 'Calculus & Analytical Geometry ', 'question': ['Calculus & Analytical Geometry  CREDIT HOURS?'], 'answer': [' Calculus & Analytical Geometry HOURS:3.'], 'context_set': ''}, {'context': 'Calculus & Analytical Geometry ', 'question': ['Calculus & Analytical Geometry  class room?'], 'answer': ['Calculus & Analytical Geometry class room:CF:4A'], 'context_set': ''}, {'context': 'Calculus & Analytical Geometry ', 'question': ['Calculus & Analytical Geometry  COURSE CODE'], 'answer': ['Calculus & Analytical Geometry Code code:MS103'], 'context_set': ''}, {'context': 'Calculus & Analytical Geometry ', 'question': ['Calculus & Analytical Geometry  teacher room?'], 'answer': ['Calculus & Analytical Geometry  teacher room:AF-07'], 'context_set': ''}, {'context': 'Applied Physics techer name', 'question': ['Applied Physics  teacher name?'], 'answer': ['Applied Physics teacher name: Sir Ikhlaq'], 'context_set': ''}, {'context': 'Applied Physics credit hours ', 'question': ['Applied Physics  CREDIT HOURS?'], 'answer': [' Applied Physics CREDIT HOURS:3+1.'], 'context_set': ''}, {'context': 'Applied Physics class room ', 'question': ['Applied Physics  class room?'], 'answer': ['Applied Physics class room:CE-01'], 'context_set': ''}, {'context': 'Applied Physics course code ', 'question': ['Applied Physics  COURSE CODE'], 'answer': ['Applied Physics Course Code:MS110'], 'context_set': ''}, {'context': 'Applied Physics techer room  ', 'question': ['Applied Physics  teacher room?'], 'answer': ['Applied Physics  teacher room:__undefine__'], 'context_set': ''}, {'context': 'Basic Electronics techer name ', 'question': ['Basic Electronics teacher name?'], 'answer': ['Basic Electronics: Sir Chandan Lal'], 'context_set': ''}, {'context': 'Basic Electronics credit hours', 'question': ['Basic Electronics CREDIT HOURS?'], 'answer': [' Basic Electronics CREDIT HOURS:3+1.'], 'context_set': ''}, {'context': 'Basic Electronics class room ', 'question': ['Basic Electronics class room?'], 'answer': ['Basic Electronics class room:CF-03'], 'context_set': ''}, {'context': 'Basic Electronics  ', 'question': ['Basic Electronics COURSE CODE'], 'answer': ['Basic Electronics Course Code:EE110'], 'context_set': ''}, {'context': 'Basic Electronics techer room ', 'question': ['Basic Electronics teacher room?'], 'answer': ['Basic Electronics teacher room:__undefine__'], 'context_set': ''}, {'context': 'Pakistan Studies & Aligarh Movement techer name', 'question': ['Pakistan Studies & Aligarh Movement  teacher name?'], 'answer': ['Pakistan Studies & Aligarh Movement  teacher name: Sir Arshad '], 'context_set': ''}, {'context': 'Pakistan Studies & Aligarh Movement credit hours', 'question': ['Pakistan Studies & Aligarh Movement CREDIT HOURS?'], 'answer': [' Pakistan Studies & Aligarh Movement  HOURS:3+1.'], 'context_set': ''}, {'context': 'Pakistan Studies & Aligarh Movement class room', 'question': ['Pakistan Studies & Aligarh Movement class room?'], 'answer': ['Pakistan Studies & Aligarh Movement  class room:CF-03'], 'context_set': ''}, {'context': 'Pakistan Studies & Aligarh Movement course code', 'question': ['Pakistan Studies & Aligarh Movement COURSE CODE'], 'answer': ['Pakistan Studies & Aligarh Movement Course Code:HS103'], 'context_set': ''}, {'context': 'Pakistan Studies & Aligarh Movement techer room', 'question': ['Pakistan Studies & Aligarh Movement teacher room?'], 'answer': ['Pakistan Studies & Aligarh Movement teacher room:AF-07'], 'context_set': ''}, {'context': 'Linear Algebra & Differential Equations techer rrom', 'question': ['Linear Algebra & Differential Equations  teacher name?'], 'answer': ['Linear Algebra & Differential Equations teacher name: Sir Nasim Akhter'], 'context_set': ''}, {'context': 'Linear Algebra & Differential Equations credit hours', 'question': ['Linear Algebra & Differential Equations CREDIT HOURS?'], 'answer': ['Linear Algebra & Differential Equations CREDIT HOURS:3.'], 'context_set': ''}, {'context': 'Linear Algebra & Differential Equations class room ', 'question': ['Linear Algebra & Differential Equations  class room?'], 'answer': ['Linear Algebra & Differential Equations class room:CE-03'], 'context_set': ''}, {'context': 'Linear Algebra & Differential Equations course code', 'question': ['Linear Algebra & Differential Equations  COURSE CODE'], 'answer': ['Linear Algebra & Differential Equations Course Code:MS110'], 'context_set': ''}, {'context': 'Linear Algebra & Differential Equations techer room', 'question': ['Linear Algebra & Differential Equations  teacher room?'], 'answer': ['Linear Algebra & Differential Equations  teacher room:___undefine__'], 'context_set': ''}, {'context': 'Object Oriented Programming  techer name', 'question': ['Object Oriented Programming teacher name?'], 'answer': ['Object Oriented Programming  teacher name: Sir Noman Ali Khan'], 'context_set': ''}, {'context': 'Object Oriented Programming Sir Noman Ali Khan credit hours ', 'question': ['Object Oriented Programming CREDIT HOURS?'], 'answer': ['Object Oriented Programming  CREDIT HOURS:3+1'], 'context_set': ''}, {'context': 'Object Oriented Programming  class room ', 'question': ['Object Oriented Programming class room?'], 'answer': ['Object Oriented Programming  class room:CE-01'], 'context_set': ''}, {'context': 'Object Oriented Programming course code ', 'question': ['Object Oriented Programming COURSE CODE'], 'answer': ['Object Oriented Programming  Course Code:SWE103'], 'context_set': ''}, {'context': 'Object Oriented Programming Sir Noman Ali Khan techer room ', 'question': ['Object Oriented Programming teacher room?'], 'answer': ['Object Oriented Programming teacher room:BS-01'], 'context_set': ''}, {'context': 'Object Oriented Programming Lab teacher name', 'question': ['what is Object Oriented Programming lab teacher name?'], 'answer': ['Programming Fundamental lab teacher Name: Miss Noreen.'], 'context_set': ''}, {'context': 'Object Oriented Programming Lab room no', 'question': ['Object Oriented Programming Lab Room No?'], 'answer': [' object oriented Lab Room No:CS-04'], 'context_set': ''}, {'context': 'Object Oriented Programming Lab teacher No', 'question': ['Object Oriented Programming Lab teacher No?'], 'answer': ['Object Oriented Programming Lab teacher No: CS-06'], 'context_set': ''}, {'context': 'Discrete Mathematics techer name', 'question': ['Discrete Mathematics  teacher name?'], 'answer': ['Discrete Mathematics teacher name: Sir Rashid Kamal'], 'context_set': ''}, {'context': 'Discrete Mathematics credit hours', 'question': ['Discrete Mathematics  CREDIT HOURS?'], 'answer': [' Discrete Mathematics CREDIT HOURS:3.'], 'context_set': ''}, {'context': 'Discrete Mathematics class room', 'question': ['Discrete Mathematics class room?'], 'answer': ['Discrete Mathematics class room:CF-03'], 'context_set': ''}, {'context': 'Discrete Mathematics couorse code', 'question': ['Discrete Mathematics  COURSE CODE'], 'answer': ['Discrete Mathematics Course Code:MS204'], 'context_set': ''}, {'context': 'Discrete Mathematics techer room', 'question': ['Discrete Mathematics  teacher room?'], 'answer': ['Discrete Mathematics  teacher room: AF-07'], 'context_set': ''}, {'context': 'Communication Skills techer name', 'question': ['Communication Skills  teacher name?'], 'answer': ['Communication Skills teacher name: Miss Afra'], 'context_set': ''}, {'context': 'Communication Skills credit hours', 'question': ['Communication Skills  CREDIT HOURS?'], 'answer': [' Communication Skills CREDIT HOURS:3.'], 'context_set': ''}, {'context': 'Communication Skills class room', 'question': ['Communication Skills  class room?'], 'answer': ['Communication Skills class room:CF-4A'], 'context_set': ''}, {'context': 'Communication Skills coourse code', 'question': ['Communication Skills  COURSE CODE'], 'answer': ['Communication Skills Course Code:HS201'], 'context_set': ''}, {'context': 'Communication Skills techer room', 'question': ['Communication Skills  teacher room?'], 'answer': ['Communication Skills  teacher room: GG-02'], 'context_set': ''}, {'context': 'Introduction to Software Engineering', 'question': ['Introduction to Software Engineering teacher name?'], 'answer': ['Introduction to Software Engineeringteacher name: Sir Yousuf Ali Khan'], 'context_set': ''}, {'context': 'Introduction to Software Engineering credit hours', 'question': ['Introduction to Software Engineering CREDIT HOURS?'], 'answer': [' Introduction to Software Engineering CREDIT HOURS:3+1.'], 'context_set': ''}, {'context': 'Introduction to Software Engineering class room', 'question': ['Introduction to Software Engineering class room?'], 'answer': ['Introduction to Software Engineeringclass room:CF-4A'], 'context_set': ''}, {'context': 'Introduction to Software Engineeringcouse code', 'question': ['Introduction to Software Engineering COURSE CODE'], 'answer': ['Introduction to Software Engineering Course Code:SWE106'], 'context_set': ''}, {'context': 'Introduction to Software Engineering techer room', 'question': ['Introduction to Software Engineering teacher room?'], 'answer': ['Introduction to Software Engineering teacher room: ___undefine__'], 'context_set': ''}, {'context': 'Introduction to Software Engineering Lab techer name', 'question': ['what is Introduction to Software Engineering lab teacher name?'], 'answer': ['Programming Fundamental lab teacher Name: Miss Hafsa Nizami.'], 'context_set': ''}, {'context': 'Introduction to Software Engineering Lab room no', 'question': ['Introduction to Software Engineering Lab Room No?'], 'answer': ['Introduction to Software Engineering Lab Room No:BF-02'], 'context_set': ''}, {'context': 'Introduction to Software Engineering Lab no', 'question': ['Introduction to Software Engineering Lab No?'], 'answer': ['Introduction to Software Engineering Lab No: CF-05'], 'context_set': ''}, {'context': 'Digital Logic & Design techer name', 'question': ['Digital Logic & Design teacher name?'], 'answer': ['Digital Logic & Designteacher name: Miss Roohi'], 'context_set': ''}, {'context': 'Digital Logic & Design credit hours', 'question': ['Digital Logic & Design CREDIT HOURS?'], 'answer': [' Digital Logic & Design CREDIT HOURS:3+1.'], 'context_set': ''}, {'context': 'Digital Logic & Design class room', 'question': ['Digital Logic & Design class room?'], 'answer': ['Digital Logic & Design class room:CF-03'], 'context_set': ''}, {'context': 'Digital Logic & Design couse code', 'question': ['Digital Logic & Design COURSE CODE'], 'answer': ['Digital Logic & Design Course Code:SWE20'], 'context_set': ''}, {'context': 'Digital Logic & Design techer room', 'question': ['Digital Logic & Design teacher room?'], 'answer': ['Digital Logic & Design teacher room: ___undefine__'], 'context_set': ''}, {'context': 'Digital Logic & Design Lab techer room', 'question': ['what is Digital Logic & Design lab teacher name?'], 'answer': ['Programming Fundamental lab teacher Name: Sir Sadaqatullah Khan.'], 'context_set': ''}, {'context': 'Digital Logic & Design Lab room no', 'question': ['Digital Logic & Design Lab Room No?'], 'answer': ['Digital Logic & Design Lab Room No:FS-02B'], 'context_set': ''}, {'context': 'Data Structures & Algorithms techer name', 'question': ['Data Structures & Algorithms teacher name?'], 'answer': ['Data Structures & Algorithmsteacher name: Miss Saniah Noman'], 'context_set': ''}, {'context': 'Data Structures & Algorithms credit hours', 'question': ['Data Structures & Algorithms CREDIT HOURS?'], 'answer': [' Data Structures & Algorithms CREDIT HOURS:3+1.'], 'context_set': ''}, {'context': 'Data Structures & Algorithms class room', 'question': ['Data Structures & Algorithms class room?'], 'answer': ['Data Structures & Algorithms class room:CF-03'], 'context_set': ''}, {'context': 'Data Structures & Algorithms course code', 'question': ['Data Structures & Algorithms COURSE CODE'], 'answer': ['Data Structures & AlgorithmsCourse Code:SWE203'], 'context_set': ''}, {'context': 'Data Structures & Algorithms techer room', 'question': ['Data Structures & Algorithms teacher room?'], 'answer': ['Data Structures & Algorithms teacher room: CF-05'], 'context_set': ''}, {'context': 'Data Structures & Algorithms Lab techer name', 'question': ['what is Data Structures & Algorithms lab teacher name?'], 'answer': ['Programming Fundamental lab teacher Name: Miss Saniah Noman.'], 'context_set': ''}, {'context': 'Data Structures & Algorithms Lab room no', 'question': ['Data Structures & Algorithms Lab Room No?'], 'answer': ['Data Structures & Algorithms Lab Room No:BF-03'], 'context_set': ''}, {'context': 'Data Structures & Algorithms Lab room no', 'question': ['Data Structures & Algorithms Lab room No?'], 'answer': ['Data Structures & Algorithms Lab room No: CF-05'], 'context_set': ''}, {'context': 'Automata Theory & Formal Languages techer name', 'question': ['Automata Theory & Formal Languages teacher name?'], 'answer': ['Automata Theory & Formal Languagesteacher name: Miss Mehvish'], 'context_set': ''}, {'context': 'Automata Theory & Formal Languages credit hours', 'question': ['Automata Theory & Formal Languages CREDIT HOURS?'], 'answer': [' Automata Theory & Formal Languages CREDIT HOURS:2.'], 'context_set': ''}, {'context': 'Automata Theory & Formal Languages class room', 'question': ['Automata Theory & Formal Languages class room?'], 'answer': ['Automata Theory & Formal Languages class room:EFF-04'], 'context_set': ''}, {'context': 'Automata Theory & Formal Languages course code', 'question': ['Automata Theory & Formal Languages COURSE CODE'], 'answer': ['Automata Theory & Formal LanguagesCourse Code:SWE202'], 'context_set': ''}, {'context': 'Automata Theory & Formal Languages techer room', 'question': ['Automata Theory & Formal Languages teacher room?'], 'answer': ['Automata Theory & Formal Languages teacher room: CF-05'], 'context_set': ''}, {'context': 'Computer Organization & Architecture techer name', 'question': ['Computer Organization & Architecture teacher name?'], 'answer': ['Computer Organization & Architectureteacher name: Sir Amir'], 'context_set': ''}, {'context': 'Computer Organization & Architecture credit hours', 'question': ['Computer Organization & Architecture CREDIT HOURS?'], 'answer': [' Computer Organization & Architecture CREDIT HOURS:3+1.'], 'context_set': ''}, {'context': 'Computer Organization & Architecture class room', 'question': ['Computer Organization & Architecture class room?'], 'answer': ['Computer Organization & Architecture class room:CG-06'], 'context_set': ''}, {'context': 'Computer Organization & Architecture course code', 'question': ['Computer Organization & Architecture COURSE CODE'], 'answer': ['Computer Organization & Architecture Course Code:CE207'], 'context_set': ''}, {'context': 'Computer Organization & Architecture techer room', 'question': ['Computer Organization & Architecture teacher room?'], 'answer': ['Computer Organization & Architecture teacher room: FT-08'], 'context_set': ''}, {'context': 'Computer Organization & Architecture Lab techer name', 'question': ['what is Computer Organization & Architecture lab teacher name?'], 'answer': ['Programming Fundamental lab teacher Name: Sir Bilal.'], 'context_set': ''}, {'context': 'Computer Organization & Architecture Lab room no', 'question': ['Computer Organization & Architecture Lab Room No?'], 'answer': ['Computer Organization & Architecture Lab Room No:GS-07'], 'context_set': ''}, {'context': 'Computer Organization & Architecture Lab room no', 'question': ['Computer Organization & Architecture Lab room No?'], 'answer': ['Computer Organization & Architecture Lab room No: __undefine__'], 'context_set': ''}, {'context': 'Operating Systemtecher name', 'question': ['Operating System teacher name?'], 'answer': ['Operating Systemteacher name: Dr Muhammad Naseem'], 'context_set': ''}, {'context': 'Operating Systemcredit hours', 'question': ['Operating System CREDIT HOURS?'], 'answer': [' Operating System CREDIT HOURS:3+1.'], 'context_set': ''}, {'context': 'Operating System class room', 'question': ['Operating System class room?'], 'answer': ['Operating System class room:CF-4A'], 'context_set': ''}, {'context': 'Operating System course code', 'question': ['Operating System COURSE CODE'], 'answer': ['Operating System Course Code:SWE204'], 'context_set': ''}, {'context': 'Operating System techer room', 'question': ['Operating System teacher room?'], 'answer': ['Operating System teacher room: CF-01'], 'context_set': ''}, {'context': 'Operating System Lab techer name', 'question': ['what is Operating System lab teacher name?'], 'answer': ['Programming Fundamental lab teacher Name: Miss .'], 'context_set': ''}, {'context': 'Operating System Lab room no', 'question': ['Operating System Lab Room No?'], 'answer': [' Lab Room No:AT-03'], 'context_set': ''}, {'context': 'Operating System Lab techer room no', 'question': ['Operating System Lab teacher room No?'], 'answer': ['Operating System Lab teacher No: __undefine__'], 'context_set': ''}, {'context': 'Probability & Statistics techer name', 'question': ['Probability & Statistics teacher name?'], 'answer': ['Probability & Statisticsteacher name: Sir Aurangzeb'], 'context_set': ''}, {'context': 'Probability & Statistics credit hours', 'question': ['Probability & Statistics CREDIT HOURS?'], 'answer': [' Probability & Statistics CREDIT HOURS:3.'], 'context_set': ''}, {'context': 'Probability & Statisticsclass room', 'question': ['Probability & Statistics class room?'], 'answer': ['Probability & Statistics class room:CG-06'], 'context_set': ''}, {'context': 'Probability & Statistics course code', 'question': ['Probability & Statistics COURSE CODE'], 'answer': ['Probability & Statistics Course Code:MS301'], 'context_set': ''}, {'context': 'Probability & Statistics techer room', 'question': ['Probability & Statistics teacher room?'], 'answer': ['Probability & Statistics teacher room: AF-07'], 'context_set': ''}, {'context': 'Software Requirement Engineering techer name', 'question': ['Software Requirement Engineering teacher name?'], 'answer': ['Software Requirement Engineeringteacher name: Dr Syed Saood Zia'], 'context_set': ''}, {'context': 'Software Requirement Engineering credit hours', 'question': ['Software Requirement Engineering CREDIT HOURS?'], 'answer': [' Software Requirement Engineering CREDIT HOURS:3+1.'], 'context_set': ''}, {'context': 'Software Requirement Engineering class room', 'question': ['Software Requirement Engineering class room?'], 'answer': ['Software Requirement Engineering class room:CF-4A'], 'context_set': ''}, {'context': 'Software Requirement Engineering course code', 'question': ['Software Requirement Engineering COURSE CODE'], 'answer': ['Software Requirement Engineering Course Code:SWE205'], 'context_set': ''}, {'context': 'Software Requirement Engineering techer room', 'question': ['Software Requirement Engineering teacher room?'], 'answer': ['Software Requirement Engineering teacher room: CF-01'], 'context_set': ''}, {'context': 'Software Requirement Engineering Lab techer name', 'question': ['what is Software Requirement Engineering lab teacher name?'], 'answer': ['Programming Fundamental lab teacher Name: Miss Hafsa Nizami .'], 'context_set': ''}, {'context': 'Software Requirement Engineering Lab room no', 'question': ['Software Requirement Engineering Lab Room No?'], 'answer': ['Software Requirement Engineering Lab Room No:CS-04'], 'context_set': ''}, {'context': 'Software Requirement Engineering Lab tech room no', 'question': ['Software Requirement Engineering Lab teacher room No?'], 'answer': ['Software Requirement Engineering Lab teacher room No: CF-05'], 'context_set': ''}, {'context': 'Artificial Intelliigence techer name', 'question': ['Artificial Intelliigence  teacher name?'], 'answer': ['Artificial Intelliigence teacher name: Miss Sundus Zehra'], 'context_set': ''}, {'context': 'Artificial Intelliigence credit hours', 'question': ['Artificial Intelliigence  CREDIT HOURS?'], 'answer': [' Artificial Intelliigence  CREDIT HOURS:3+1.'], 'context_set': ''}, {'context': 'Artificial Intelliigence class room', 'question': ['Artificial Intelliigence  class room?'], 'answer': ['Artificial Intelliigence  class room:CS-02'], 'context_set': ''}, {'context': 'Artificial Intelliigence course code', 'question': ['Artificial Intelliigence  COURSE CODE'], 'answer': ['Artificial Intelliigence  Course Code:SWE407'], 'context_set': ''}, {'context': 'Artificial Intelliigence techer room', 'question': ['Artificial Intelliigence  teacher room?'], 'answer': ['Artificial Intelliigence  teacher room: CS-06'], 'context_set': ''}, {'context': 'Artificial Intelliigence Lab techer name', 'question': ['what is Artificial Intelliigence  lab teacher name?'], 'answer': ['Programming Fundamental lab teacher Name: Miss Nudrat Naveed .'], 'context_set': ''}, {'context': 'Artificial Intelliigence Lab room no', 'question': ['Artificial Intelliigence  Lab Room No?'], 'answer': ['Artificial Intelliigence Lab Room No:CS-04'], 'context_set': ''}, {'context': 'Artificial Intelliigence Lab tech room no', 'question': ['Artificial Intelliigence  Lab teacher room No?'], 'answer': ['Artificial Intelliigence  Lab teacher No:__undefine__'], 'context_set': ''}, {'context': 'Computer Communications & Networks techer name ', 'question': ['Computer Communications & Networks  teacher name?'], 'answer': ['Computer Communications & Networks teacher name: Sir Hassan Zaki'], 'context_set': ''}, {'context': 'Computer Communications & Networks credit hours ', 'question': ['Computer Communications & Networks  CREDIT HOURS?'], 'answer': [' Computer Communications & Networks  CREDIT HOURS:3+1.'], 'context_set': ''}, {'context': 'Computer Communications & Networks class room ', 'question': ['Computer Communications & Networks  class room?'], 'answer': ['Computer Communications & Networks  class room: CF-4A'], 'context_set': ''}, {'context': 'Computer Communications & Networks course code ', 'question': ['Computer Communications & Networks  COURSE CODE'], 'answer': ['Computer Communications & Networks  Course Code:SWE306'], 'context_set': ''}, {'context': 'Computer Communications & Networks techer room ', 'question': ['Computer Communications & Networks  teacher room?'], 'answer': ['Computer Communications & Networks  teacher room: __undefine__'], 'context_set': ''}, {'context': 'Computer Communications & Networks Lab techer name', 'question': ['what is Computer Communications & Networks  lab teacher name?'], 'answer': ['Programming Fundamental lab teacher Name: Sir Sadaqatullah Khan.'], 'context_set': ''}, {'context': 'Computer Communications & Networks Lab room no', 'question': ['Computer Communications & Networks  Lab Room No?'], 'answer': ['Computer Communications Lab Room No: BF-02'], 'context_set': ''}, {'context': 'Computer Communications & Networks Lab tech room no', 'question': ['Computer Communications & Networks  Lab teacher room No?'], 'answer': ['Computer Communications & Networks  Lab teacher No: __undefine__'], 'context_set': ''}, {'context': 'Introduction to Database System techer name ', 'question': ['Introduction to Database System teacher name?'], 'answer': ['Introduction to Database System  teacher name: Sir Shariq Durrani'], 'context_set': ''}, {'context': 'Introduction to Database System  credit hours ', 'question': ['Introduction to Database System CREDIT HOURS?'], 'answer': [' Introduction to Database System CREDIT HOURS:3+1.'], 'context_set': ''}, {'context': 'Introduction to Database System class room ', 'question': ['Introduction to Database System class room?'], 'answer': ['Introduction to Database System class room: CS-02'], 'context_set': ''}, {'context': 'Introduction to Database System course code ', 'question': ['Introduction to Database System COURSE CODE'], 'answer': ['Introduction to Database System Course Code:SWE301'], 'context_set': ''}, {'context': 'Introduction to Database System  techer room', 'question': ['Introduction to Database System teacher room?'], 'answer': ['Introduction to Database System teacher room: BS-02'], 'context_set': ''}, {'context': 'Introduction to Database System  Lab techer name', 'question': ['what is Introduction to Database System lab teacher name?'], 'answer': ['Programming Fundamental lab teacher Name: Miss Sana Waseem.'], 'context_set': ''}, {'context': 'Introduction to Database System  Lab room no', 'question': ['Introduction to Database System Lab Room No?'], 'answer': ['Introduction to Database System Lab Room No: BF-02'], 'context_set': ''}, {'context': 'Introduction to Database System  Lab techer room no', 'question': ['Introduction to Database System Lab teacher room No?'], 'answer': ['Introduction to Database System Lab teacher No: __undefine__'], 'context_set': ''}, {'context': 'Software Design & Archietecture techer name ', 'question': ['Software Design & Archietecture teacher name?'], 'answer': ['Software Design & Archietecture  teacher name: Miss Dure Shahwar Agha'], 'context_set': ''}, {'context': 'Software Design & Archietecture credit hours ', 'question': ['Software Design & Archietecture CREDIT HOURS?'], 'answer': [' Software Design & Archietecture CREDIT HOURS:2+1.'], 'context_set': ''}, {'context': 'Software Design & Archietecture class room ', 'question': ['Software Design & Archietecture class room?'], 'answer': ['Software Design & Archietecture class room: CF-4A'], 'context_set': ''}, {'context': 'Software Design & Archietecture course code ', 'question': ['Software Design & Archietecture COURSE CODE'], 'answer': ['Software Design & Archietecture Course Code:SWE303'], 'context_set': ''}, {'context': 'Software Design & Archietecture techer room ', 'question': ['Software Design & Archietecture teacher room?'], 'answer': ['Software Design & Archietecture teacher room: CS-06'], 'context_set': ''}, {'context': 'Software Design & Archietecture  Lab techer name', 'question': ['what is Software Design & Archietecture lab teacher name?'], 'answer': ['Programming Fundamental lab teacher Name: Miss Hiba.'], 'context_set': ''}, {'context': 'Software Design & Archietecture  Lab room no', 'question': ['Software Design & Archietecture Lab Room No?'], 'answer': ['Software Design & Archietecture Lab Room No: BF-03'], 'context_set': ''}, {'context': 'Software Design & Archietecture  Lab tech room no', 'question': ['Software Design & Archietecture Lab teacher No?'], 'answer': ['Software Design & Archietecture Lab teacher No: __undefine__'], 'context_set': ''}, {'context': 'Technical Writting techer name ', 'question': ['Technical Writting teacher name?'], 'answer': ['Technical Writting  teacher name: Miss Tazeen'], 'context_set': ''}, {'context': 'Technical Writting credit hours ', 'question': ['Technical Writting CREDIT HOURS?'], 'answer': [' Technical Writting CREDIT HOURS:2.'], 'context_set': ''}, {'context': 'Technical Writting class room ', 'question': ['Technical Writting class room?'], 'answer': ['Technical Writting class room: CS-02'], 'context_set': ''}, {'context': 'Technical Writting course code ', 'question': ['Technical Writting COURSE CODE'], 'answer': ['Technical Writting Course Code:HS211'], 'context_set': ''}, {'context': 'Technical Writting  techer room', 'question': ['Technical Writting teacher room?'], 'answer': ['Technical Writting teacher room: GG-02'], 'context_set': ''}, {'context': 'Compiler Construction techer name ', 'question': ['Compiler Construction teacher name?'], 'answer': ['Compiler Construction  teacher name:Sir Harris Mehboob/Miss Sanoober Somroo'], 'context_set': ''}, {'context': 'Compiler Construction credit hours ', 'question': ['Compiler Construction CREDIT HOURS?'], 'answer': [' Compiler Construction CREDIT HOURS:3.'], 'context_set': ''}, {'context': 'Compiler Construction class room ', 'question': ['Compiler Construction class room?'], 'answer': ['Compiler Construction class room: CS-05'], 'context_set': ''}, {'context': 'Compiler Construction course code  ', 'question': ['Compiler Construction COURSE CODE'], 'answer': ['Compiler Construction class room: CS-05'], 'context_set': ''}, {'context': 'Compiler Construction tecer room ', 'question': ['Compiler Construction teacher room?'], 'answer': ['Compiler Construction teacher room: GG-02'], 'context_set': ''}, {'context': 'Enterprise System Engineering techer nmae ', 'question': ['Enterprise System Engineering teacher name?'], 'answer': ['Enterprise System Engineering  teacher name:Sir Syed Saood Zia'], 'context_set': ''}, {'context': 'Enterprise System Engineering credit hours ', 'question': ['Enterprise System Engineering CREDIT HOURS?'], 'answer': [' Enterprise System Engineering CREDIT HOURS:3.'], 'context_set': ''}, {'context': 'Enterprise System Engineering class room ', 'question': ['Enterprise System Engineering class room?'], 'answer': ['Enterprise System Engineering class room: CF-4A'], 'context_set': ''}, {'context': 'Enterprise System Engineering course code ', 'question': ['Enterprise System Engineering COURSE CODE'], 'answer': ['Enterprise System Engineering Course Code:SWE304'], 'context_set': ''}, {'context': 'Enterprise System Engineering techer room ', 'question': ['Enterprise System Engineering teacher room?'], 'answer': ['Enterprise System Engineering teacher room: CF-01'], 'context_set': ''}, {'context': 'Information Security  techer name', 'question': ['Information Security teacher name?'], 'answer': ['Information Security  teacher name:Sir Hassan Zaki/ Miss Roohi Kamal'], 'context_set': ''}, {'context': 'Information Security credit hours', 'question': ['Information Security CREDIT HOURS?'], 'answer': [' Information Security CREDIT HOURS:3.'], 'context_set': ''}, {'context': 'Information Security class room ', 'question': ['Information Security class room?'], 'answer': ['Information Security class room: CF-4A'], 'context_set': ''}, {'context': 'Information Security course code ', 'question': ['Information Security COURSE CODE'], 'answer': ['Information Security Course Code:SWE313'], 'context_set': ''}, {'context': 'Information Security techer room ', 'question': ['Information Security teacher room?'], 'answer': ['Information Security teacher room: __undefine__'], 'context_set': ''}, {'context': 'Prinnciples of Management & Enterpreneurship techer name ', 'question': ['Prinnciples of Management & Enterpreneurship  teacher name?'], 'answer': ['Prinnciples of Management & Enterpreneurship teacher name:Sir Kashif Shaikh'], 'context_set': ''}, {'context': 'Prinnciples of Management & Enterpreneurship credit hours', 'question': ['Prinnciples of Management & Enterpreneurship  CREDIT HOURS?'], 'answer': [' Prinnciples of Management & Enterpreneurship  CREDIT HOURS:3.'], 'context_set': ''}, {'context': 'Prinnciples of Management & Enterpreneurship class room', 'question': ['Prinnciples of Management & Enterpreneurship  class room?'], 'answer': ['Prinnciples of Management & Enterpreneurship  class room: CF-4A'], 'context_set': ''}, {'context': 'Prinnciples of Management & Enterpreneurship course code ', 'question': ['Prinnciples of Management & Enterpreneurship  COURSE CODE'], 'answer': ['Prinnciples of Management & Enterpreneurship  Course Code:HS305'], 'context_set': ''}, {'context': 'Prinnciples of Management & Enterpreneurship techer room', 'question': ['Prinnciples of Management & Enterpreneurship  teacher room?'], 'answer': ['Prinnciples of Management & Enterpreneurship  teacher room: __undefine__'], 'context_set': ''}, {'context': 'Software Quality Engineering techer name', 'question': ['Software Quality Engineering  teacher name?'], 'answer': ['Software Quality Engineering teacher name:Sir Farukh Alvi/ Miss Nida Khalil'], 'context_set': ''}, {'context': 'Software Quality Engineering credit hours', 'question': ['Software Quality Engineering  CREDIT HOURS?'], 'answer': [' Software Quality Engineering  CREDIT HOURS:3.'], 'context_set': ''}, {'context': 'Software Quality Engineering class room', 'question': ['Software Quality Engineering  class room?'], 'answer': ['Software Quality Engineering  class room: CF-4A'], 'context_set': ''}, {'context': 'Software Quality Engineering course code', 'question': ['Software Quality Engineering  COURSE CODE'], 'answer': ['Software Quality Engineering  Course Code:SWE305'], 'context_set': ''}, {'context': 'Software Quality Engineering teacher room', 'question': ['Software Quality Engineering  teacher room?'], 'answer': ['Software Quality Engineering  teacher room:CF-05'], 'context_set': ''}, {'context': 'Web Engineering teacher name', 'question': ['Web Engineering  teacher name?'], 'answer': ['Web Engineering teacher name:Miss Priha Bhatti/ Sir Noman Ali Khan'], 'context_set': ''}, {'context': 'Web Engineering credit hours ', 'question': ['Web Engineering  CREDIT HOURS?'], 'answer': [' Web Engineering  CREDIT HOURS:2+1.'], 'context_set': ''}, {'context': 'Web Engineering class room', 'question': ['Web Engineering  class room?'], 'answer': ['Web Engineering  class room: CS-02'], 'context_set': ''}, {'context': 'Web Engineering course code', 'question': ['Web Engineering  COURSE CODE'], 'answer': ['Web Engineering  Course Code:SWE315'], 'context_set': ''}, {'context': 'Web Engineering teacher room', 'question': ['Web Engineering  teacher room?'], 'answer': ['Web Engineering  teacher room:BS-01'], 'context_set': ''}, {'context': 'Web Engineering Lab teacher name', 'question': ['what is Web Engineering  lab teacher name?'], 'answer': ['Programming Fundamental lab teacher Name: Miss Hafsa Nizami.'], 'context_set': ''}, {'context': 'Web Engineering Lab room no', 'question': ['Web Engineering  Lab Room No?'], 'answer': [' Lab Room No: Online'], 'context_set': ''}, {'context': 'Web Engineering Lab teacher room no', 'question': ['Web Engineering  Lab teacher rrom No?'], 'answer': ['Web Engineering  Lab teacher room No:CF-05'], 'context_set': ''}, {'context': 'Big Data Analystics techer name', 'question': ['Big Data Analystics  teacher name?'], 'answer': ['Big Data Analystics teacher name:Sir Khalid Mehboob'], 'context_set': ''}, {'context': 'Big Data Analystics credit hours', 'question': ['Big Data Analystics  CREDIT HOURS?'], 'answer': [' Big Data Analystics  CREDIT HOURS:3.'], 'context_set': ''}, {'context': 'Big Data Analystics class room', 'question': ['Big Data Analystics  class room?'], 'answer': ['Big Data Analystics  class room: CS-05'], 'context_set': ''}, {'context': 'Big Data Analystics course code', 'question': ['Big Data Analystics  COURSE CODE'], 'answer': ['Big Data Analystics  Course Code:SWE419'], 'context_set': ''}, {'context': 'Big Data Analystics teacher name ', 'question': ['Big Data Analystics  teacher room?'], 'answer': ['Big Data Analystics  teacher room:CF-05'], 'context_set': ''}, {'context': 'Human & Computer Interaction techer name', 'question': ['Human & Computer Interaction  teacher name?'], 'answer': ['Human & Computer Interaction teacher name:Sir Farukh Alvi'], 'context_set': ''}, {'context': 'Human & Computer Interaction credit hours', 'question': ['Human & Computer Interaction  CREDIT HOURS?'], 'answer': [' Human & Computer Interaction  CREDIT HOURS:3.'], 'context_set': ''}, {'context': 'Human & Computer Interaction class room', 'question': ['Human & Computer Interaction  class room?'], 'answer': ['Human & Computer Interaction  class room: CS-05'], 'context_set': ''}, {'context': 'Human & Computer Interaction course code', 'question': ['Human & Computer Interaction  COURSE CODE'], 'answer': ['Human & Computer Interaction  Course Code:SWE308'], 'context_set': ''}, {'context': 'Human & Computer Interaction techer room ', 'question': ['Human & Computer Interaction  teacher room?'], 'answer': ['Human & Computer Interaction  teacher room:CF-05'], 'context_set': ''}, {'context': 'Simulation & Modeling ', 'question': ['Simulation & Modeling  teacher name?'], 'answer': ['Simulation & Modeling teacher name:Dr Muhammad Naseem'], 'context_set': ''}, {'context': 'Simulation & Modeling credit hours', 'question': ['Simulation & Modeling  CREDIT HOURS?'], 'answer': [' Simulation & Modeling  CREDIT HOURS:2+1.'], 'context_set': ''}, {'context': 'Simulation & Modeling class room', 'question': ['Simulation & Modeling  class room?'], 'answer': ['Simulation & Modeling  class room: CS-05'], 'context_set': ''}, {'context': 'Simulation & Modeling course code', 'question': ['Simulation & Modeling  COURSE CODE'], 'answer': ['Simulation & Modeling  Course Code:SWE422'], 'context_set': ''}, {'context': 'Simulation & Modeling techer room', 'question': ['Simulation & Modeling  teacher room?'], 'answer': ['Simulation & Modeling  teacher room:CF-01'], 'context_set': ''}, {'context': 'Simulation & Modeling Lab techer nmae', 'question': ['what is Simulation & Modeling  lab teacher name?'], 'answer': ['Programming Fundamental lab teacher Name: Miss Hafsa Nizami.'], 'context_set': ''}, {'context': 'Simulation & Modeling Lab room no', 'question': ['Simulation & Modeling  Lab Room No?'], 'answer': [' Lab Room No: CS-04'], 'context_set': ''}, {'context': 'Simulation & Modeling Lab techer room no', 'question': ['Simulation & Modeling  Lab teacher room No?'], 'answer': ['Simulation & Modeling  Lab teacher No:CF-05'], 'context_set': ''}, {'context': 'Organizational Behaviour techer name ', 'question': ['Organizational Behaviour teacher name?'], 'answer': ['Organizational Behaviour  teacher name:Sir Adnan Zahoor'], 'context_set': ''}, {'context': 'Organizational Behaviour credit hours ', 'question': ['Organizational Behaviour CREDIT HOURS?'], 'answer': [' Organizational Behaviour CREDIT HOURS:2.'], 'context_set': ''}, {'context': 'Organizational Behaviour class room ', 'question': ['Organizational Behaviour class room?'], 'answer': ['Organizational Behaviour class room: CS-05'], 'context_set': ''}, {'context': 'Organizational Behaviour course code ', 'question': ['Organizational Behaviour COURSE CODE'], 'answer': ['Organizational Behaviour Course Code:HS212'], 'context_set': ''}, {'context': 'Organizational Behaviour techer room ', 'question': ['Organizational Behaviour teacher room?'], 'answer': ['Organizational Behaviour teacher room:CF-01'], 'context_set': ''}, {'context': 'Software Project Management teacher name ', 'question': ['Software Project Management teacher name?'], 'answer': ['Software Project Management  teacher name:Sir Kashif Shaikh'], 'context_set': ''}, {'context': 'Software Project Management credit hours ', 'question': ['Software Project Management CREDIT HOURS?'], 'answer': [' Software Project Management CREDIT HOURS:3.'], 'context_set': ''}, {'context': 'Software Project Management class room ', 'question': ['Software Project Management class room?'], 'answer': ['Software Project Management class room: CS-05'], 'context_set': ''}, {'context': 'Software Project Management course code ', 'question': ['Software Project Management COURSE CODE'], 'answer': ['Software Project Management Course Code:SWE401'], 'context_set': ''}, {'context': 'Software Project Management teacher room ', 'question': ['Software Project Management teacher room?'], 'answer': ['Software Project Management teacher room: __undefine__'], 'context_set': ''}, {'context': 'canteen', 'question': ['ssuet Canteens?', 'canteens location?', 'ssuet canteen timing'], 'answer': ['Welcome to SSUET canteen!', ' SSuet canteen timing open at 9 am to 5 pm. canteens location: 2 canteens are in ssuet 1 for boys near parking gate and 2nd for girls opposite of nazami workshop', ' SSuet canteen timing open at 9 am to 5 pm. canteens location: 2 canteens are in ssuet 1 for boys near parking gate and 2nd for girls opposite of nazami workshop'], 'context_set': ''}, {'context': 'Library', 'question': ['Library timing', 'what are your hours to open the library', 'hours of library'], 'answer': ['library timing of SSUET open 9 am 5 pm Monday-Friday! and 1 pm to 2 pm lunch timing.', 'library timing of SSUET open 9 am 5 pm Monday-Friday! and 1 pm to 2 pm lunch timing.', 'library timing of SSUET open 9 am 5 pm Monday-Friday! and 1 pm to 2 pm lunch timing.'], 'context_set': ''}]\n"
          ]
        }
      ]
    },
    {
      "cell_type": "code",
      "metadata": {
        "colab": {
          "base_uri": "https://localhost:8080/"
        },
        "id": "0wv5h3dqLO9U",
        "outputId": "ecfaf709-bddb-4ac8-cc3e-053e8474a819"
      },
      "source": [
        "nltk.download('punkt')"
      ],
      "execution_count": 102,
      "outputs": [
        {
          "output_type": "stream",
          "name": "stdout",
          "text": [
            "[nltk_data] Downloading package punkt to /root/nltk_data...\n",
            "[nltk_data]   Package punkt is already up-to-date!\n"
          ]
        },
        {
          "output_type": "execute_result",
          "data": {
            "text/plain": [
              "True"
            ]
          },
          "metadata": {},
          "execution_count": 102
        }
      ]
    },
    {
      "cell_type": "code",
      "metadata": {
        "id": "ObGrG4wN9EKH"
      },
      "source": [
        "words = []\n",
        "labels = []\n",
        "docs_x = []\n",
        "docs_y = []\n",
        "\n",
        "# Tokinization.\n",
        "for intent in data['intents']:\n",
        "    for pattern in intent['question']:\n",
        "      wrds = nltk.word_tokenize(pattern)\n",
        "      words.extend(wrds)\n",
        "      docs_x.append(wrds)\n",
        "      docs_y.append(intent[\"context\"])\n",
        "        \n",
        "    if intent['context'] not in labels:\n",
        "        labels.append(intent['context'])"
      ],
      "execution_count": 103,
      "outputs": []
    },
    {
      "cell_type": "code",
      "source": [
        "# docs_x"
      ],
      "metadata": {
        "id": "qoohKihc84Ds"
      },
      "execution_count": 104,
      "outputs": []
    },
    {
      "cell_type": "code",
      "metadata": {
        "id": "qJOPmRJDfnYU"
      },
      "source": [
        "# docs_y"
      ],
      "execution_count": 105,
      "outputs": []
    },
    {
      "cell_type": "code",
      "source": [
        ""
      ],
      "metadata": {
        "id": "3gjc-gCQSXf3"
      },
      "execution_count": 105,
      "outputs": []
    },
    {
      "cell_type": "code",
      "metadata": {
        "id": "ngcgJSI_LApr"
      },
      "source": [
        "words = [stemmer.stem(w.lower()) for w in words if w != \"?\"]\n",
        "words = sorted(list(set(words)))\n",
        "\n",
        "labels = sorted(labels)"
      ],
      "execution_count": 106,
      "outputs": []
    },
    {
      "cell_type": "code",
      "metadata": {
        "id": "JNgKdjdRgjS9"
      },
      "source": [
        "# labels"
      ],
      "execution_count": 107,
      "outputs": []
    },
    {
      "cell_type": "code",
      "metadata": {
        "id": "trNdUWGqOzsU"
      },
      "source": [
        "# beg of words.\n",
        "training = []\n",
        "output = []\n",
        "\n",
        "out_empty = [0 for _ in range(len(labels))]\n",
        "\n",
        "for x, doc in enumerate(docs_x):\n",
        "    bag = []\n",
        "\n",
        "    wrds = [stemmer.stem(w.lower()) for w in doc]\n",
        "\n",
        "    for w in words:\n",
        "\n",
        "      if w in wrds:\n",
        "          bag.append(1)\n",
        "      else:\n",
        "          bag.append(0)\n",
        "\n",
        "    output_row = out_empty[:]\n",
        "    output_row[labels.index(docs_y[x])] = 1\n",
        "\n",
        "    training.append(bag)\n",
        "    output.append(output_row)"
      ],
      "execution_count": 108,
      "outputs": []
    },
    {
      "cell_type": "code",
      "source": [
        "# print(len(training))\n",
        "# print(len(output))"
      ],
      "metadata": {
        "id": "jJbzO6_TA_4T"
      },
      "execution_count": 109,
      "outputs": []
    },
    {
      "cell_type": "code",
      "source": [
        "# from tflearn.data_utils import to_categorical, pad_sequences\n",
        "# trainX = pad_sequences(training, maxlen=100, value=0.)\n",
        "# testX = pad_sequences(output, maxlen=100, value=0.)"
      ],
      "metadata": {
        "id": "8UDQSwGe_Slh"
      },
      "execution_count": 112,
      "outputs": []
    },
    {
      "cell_type": "code",
      "metadata": {
        "id": "Uanph4Esh1ux"
      },
      "source": [
        "# trainY = to_categorical(trainY)\n",
        "# testY = to_categorical(testY)"
      ],
      "execution_count": 113,
      "outputs": []
    },
    {
      "cell_type": "code",
      "metadata": {
        "id": "1DAL55S9PL6U",
        "colab": {
          "base_uri": "https://localhost:8080/"
        },
        "outputId": "78f1577b-d1a1-4514-8d37-e19f9de57364"
      },
      "source": [
        "training = numpy.array(training)\n",
        "output = numpy.array(output)\n",
        "print(len(training[0]))\n",
        "print(len(output[0]))"
      ],
      "execution_count": 114,
      "outputs": [
        {
          "output_type": "stream",
          "name": "stdout",
          "text": [
            "111\n",
            "210\n"
          ]
        }
      ]
    },
    {
      "cell_type": "code",
      "metadata": {
        "id": "DzXw1Y0yhzqh"
      },
      "source": [
        "# Network building\n",
        "from tensorflow.python.framework import ops\n",
        "ops.reset_default_graph()\n",
        "net = tflearn.input_data([None, len(training[0])])\n",
        "net = tflearn.embedding(net, input_dim=10000, output_dim=128)\n",
        "net = tflearn.lstm(net, 64,return_seq=True)\n",
        "# net= tflearn.dropout(net, 0.2)\n",
        "net = tflearn.lstm(net, 128)\n",
        "net = tflearn.fully_connected(net,len(output[0]) , activation='softmax')\n",
        "net = tflearn.regression(net, optimizer='adam', learning_rate=0.001,loss='categorical_crossentropy')\n",
        "model = tflearn.DNN(net)"
      ],
      "execution_count": 128,
      "outputs": []
    },
    {
      "cell_type": "code",
      "metadata": {
        "id": "jJOF6PnaPMvE"
      },
      "source": [
        "# from tensorflow.python.framework import ops\n",
        "# ops.reset_default_graph()\n",
        "# net = tflearn.input_data(shape=[None, len(training[0])])\n",
        "# net = tflearn.fully_connected(net, 8)\n",
        "# net = tflearn.fully_connected(net, 8)\n",
        "# net = tflearn.fully_connected(net, len(output[0]), activation=\"softmax\")\n",
        "# net = tflearn.regression(net,optimizer='adam', learning_rate=0.001,loss='categorical_crossentropy')\n",
        "\n",
        "# model = tflearn.DNN(net)\n"
      ],
      "execution_count": 124,
      "outputs": []
    },
    {
      "cell_type": "code",
      "metadata": {
        "colab": {
          "base_uri": "https://localhost:8080/"
        },
        "id": "g07chKhRPN92",
        "outputId": "b5416ecd-3280-4967-c193-48094827b9e6"
      },
      "source": [
        "# model.fit(training, output, n_epoch=250, batch_size=8, show_metric=True)\n",
        "model.fit(training, output, show_metric=True,n_epoch=250,batch_size=32,validation_set=0.1)"
      ],
      "execution_count": 129,
      "outputs": [
        {
          "output_type": "stream",
          "name": "stdout",
          "text": [
            "Training Step: 1749  | total loss: \u001b[1m\u001b[32m0.20949\u001b[0m\u001b[0m | time: 0.603s\n",
            "| Adam | epoch: 250 | loss: 0.20949 - acc: 0.9679 -- iter: 192/213\n",
            "Training Step: 1750  | total loss: \u001b[1m\u001b[32m0.20345\u001b[0m\u001b[0m | time: 1.713s\n",
            "| Adam | epoch: 250 | loss: 0.20345 - acc: 0.9648 | val_loss: 12.77206 - val_acc: 0.0417 -- iter: 213/213\n",
            "--\n"
          ]
        }
      ]
    },
    {
      "cell_type": "code",
      "metadata": {
        "id": "bNnwsjStQu2G"
      },
      "source": [
        "# model.save(\"chatbot.tflearn\")"
      ],
      "execution_count": 130,
      "outputs": []
    },
    {
      "cell_type": "code",
      "metadata": {
        "colab": {
          "base_uri": "https://localhost:8080/"
        },
        "id": "cpD51yLoRD2p",
        "outputId": "a00cecce-ef75-4561-e8f9-2c450d1819e6"
      },
      "source": [
        "def bag_of_words(s, words):\n",
        "    bag = [0 for _ in range(len(words))]\n",
        "\n",
        "    s_words = nltk.word_tokenize(s)\n",
        "    s_words = [stemmer.stem(word.lower()) for word in s_words]\n",
        "\n",
        "    for se in s_words:\n",
        "        for i, w in enumerate(words):\n",
        "            if w == se:\n",
        "                bag[i] = 1\n",
        "            \n",
        "    return numpy.array(bag)\n",
        "\n",
        "\n",
        "def chat():\n",
        "    print(\"Start talking with the bot (type quit to stop)!\")\n",
        "    while True:\n",
        "        inp = input(\"You: \")\n",
        "        if inp.lower() == \"quit\":\n",
        "            break\n",
        "\n",
        "        results = model.predict([bag_of_words(inp, words)])\n",
        "        results_index = numpy.argmax(results)\n",
        "        tag = labels[results_index]\n",
        "\n",
        "        for tg in data[\"intents\"]:\n",
        "            if tg['context'] == tag:\n",
        "                responses = tg['answer']\n",
        "\n",
        "        print(responses)\n",
        "\n",
        "chat()"
      ],
      "execution_count": 131,
      "outputs": [
        {
          "name": "stdout",
          "output_type": "stream",
          "text": [
            "Start talking with the bot (type quit to stop)!\n",
            "You: ap teacher room\n",
            "['Basic Electronics teacher room:__undefine__']\n",
            "You: Basic Electronics teacher room\n",
            "['Basic Electronics teacher room:__undefine__']\n",
            "You: AP teacher room\n",
            "['Basic Electronics teacher room:__undefine__']\n",
            "You: what is DSA lab teacher name\n",
            "['Programming Fundamental lab teacher Name: Miss Nudrat Naveed .']\n",
            "You: DSA Lab room no\n",
            "['Computer Organization & Architecture class room:CG-06']\n",
            "You: quit\n"
          ]
        }
      ]
    },
    {
      "cell_type": "code",
      "source": [
        ""
      ],
      "metadata": {
        "id": "utMsSkw_I1l8"
      },
      "execution_count": null,
      "outputs": []
    },
    {
      "cell_type": "code",
      "metadata": {
        "id": "imkWEAMXReel"
      },
      "source": [
        ""
      ],
      "execution_count": null,
      "outputs": []
    }
  ]
}